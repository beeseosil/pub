{
 "cells": [
  {
   "cell_type": "code",
   "execution_count": null,
   "metadata": {},
   "outputs": [],
   "source": [
    "import numpy as np\n",
    "import pandas as pd\n",
    "import matplotlib.pyplot as plt\n",
    "import seaborn as sns\n",
    "from sklearn.preprocessing import MinMaxScaler\n",
    "\n",
    "from matplotlib.font_manager import fontManager, FontProperties\n",
    "fontManager.addfont(\"./res/Pretendard-Light.otf\")\n",
    "fontProp=FontProperties(fname=\"./res/Pretendard-Light.otf\")\n",
    "sns.set(font=fontProp.get_name(),style=\"whitegrid\",palette=\"muted\")\n",
    "\n",
    "pd.set_option(\"display.max_rows\",6)\n",
    "pd.set_option(\"display.max_columns\",10)\n",
    "pd.set_option(\"display.expand_frame_repr\",False)"
   ]
  },
  {
   "cell_type": "code",
   "execution_count": null,
   "metadata": {},
   "outputs": [],
   "source": [
    "## Data is longitudinal and having absolute time values\n",
    "datafile=\"./res/Dataset_14-day_AA_depression_symptoms_mood_and_PHQ-9.csv\"\n",
    "indices=[\"user_id\",\"phq.day\"]\n",
    "gomi=[\"Unnamed: 0\",\"id\",\"start.time\",\"time\"]"
   ]
  },
  {
   "cell_type": "code",
   "execution_count": null,
   "metadata": {},
   "outputs": [],
   "source": [
    "data=pd.read_csv(datafile).drop(gomi,axis=1).dropna(subset=[\"phq1\",\"phq9\"])"
   ]
  },
  {
   "cell_type": "code",
   "execution_count": null,
   "metadata": {},
   "outputs": [],
   "source": [
    "data=data.sort_values(indices)"
   ]
  },
  {
   "cell_type": "markdown",
   "metadata": {},
   "source": [
    "## Make Spots"
   ]
  },
  {
   "cell_type": "code",
   "execution_count": null,
   "metadata": {},
   "outputs": [],
   "source": [
    "mms=MinMaxScaler()\n",
    "data[\"timedelta\"]=data.groupby(\"user_id\")[\"phq.day\"].transform(\n",
    "    lambda q:mms.fit_transform(q.to_numpy().reshape(-1,1)).reshape(-1)\n",
    ")"
   ]
  },
  {
   "cell_type": "code",
   "execution_count": null,
   "metadata": {},
   "outputs": [],
   "source": [
    "# PHQ Ex. results per user_id\n",
    "'''Handling PHQ-9 score at the enrollment \n",
    "as longitudinal endpoints in the trial are \n",
    "[q for q in data.columns if q.startswith(\"q\")].'''\n",
    "\n",
    "longitudinalQs=[q for q in data.columns if q.startswith(\"q\")]\n",
    "\n",
    "phqEssential=data.loc[:,[\"phq1\",\"phq2\"]].gt(1).all(axis=1)\n",
    "\n",
    "phqZasal=data.loc[:,[\"phq9\"]].gt(0).all(axis=1)\n",
    "\n",
    "phqShaded=data.loc[phqEssential,[f\"phq{q}\" for q in range(1,9)]].gt(1).sum(axis=1)+phqZasal\n",
    "phqShaded=phqShaded.fillna(0)\n",
    "data[\"phqShaded\"]=phqShaded\n",
    "\n",
    "phq=data[[q for q in data.columns if q[-1].isdigit() and q[:3]==\"phq\"]].sum(axis=1)\n",
    "data[\"phq\"]=phq"
   ]
  },
  {
   "cell_type": "code",
   "execution_count": null,
   "metadata": {},
   "outputs": [],
   "source": [
    "## Get more samples per spot, and spot would be an index for most values\n",
    "data[\"spot\"]=pd.qcut(data.timedelta,10,[q for q in range(1,11)])\n",
    "perSpot=data.groupby(\"spot\")[longitudinalQs].mean()\n",
    "\n",
    "grp=sns.lineplot(perSpot,alpha=.8)\n",
    "grp.set_title(\"Per Spot Score Changes\")\n",
    "grp.set_xlabel(\"Spot\")\n",
    "grp.set_ylabel(\"Score\")\n",
    "sns.move_legend(\n",
    "    grp,\n",
    "    title=\"ICD-10 Depression Questions\",\n",
    "    loc=\"lower left\",\n",
    "    ncols=4,\n",
    ")\n",
    "sns.despine()"
   ]
  },
  {
   "cell_type": "markdown",
   "metadata": {},
   "source": [
    "## Dx."
   ]
  },
  {
   "cell_type": "code",
   "execution_count": null,
   "metadata": {},
   "outputs": [],
   "source": [
    "## idd: Initial Diagnosed Depression\n",
    "idd=data[data.index.isin(data.groupby(\"user_id\")[\"phq.day\"].idxmin())].phqShaded.gt(3)\n",
    "idd=data.user_id.isin(data[data.index.isin(idd.index)].user_id).rename(\"idd\").apply(lambda q:\"idd\" if q else \"\")\n",
    "idd.value_counts()\n",
    "\n",
    "## mdd\n",
    "mdd=data.phqShaded.gt(4).rename(\"mdd\").apply(lambda q:\"mdd\" if q else \"\")\n",
    "\n",
    "## odd\n",
    "odd=((1<data.phqShaded) * (data.phqShaded<5)).rename(\"odd\").apply(lambda q:\"odd\" if q else \"\")"
   ]
  },
  {
   "cell_type": "code",
   "execution_count": null,
   "metadata": {},
   "outputs": [],
   "source": [
    "## Dx Total\n",
    "diag=(mdd+odd).rename(\"diag\")\n",
    "diag.loc[diag==\"\"]=None\n",
    "\n",
    "data=pd.concat([ \n",
    "    data.drop(\"phq.day\",axis=1),\n",
    "    diag\n",
    "],axis=1)"
   ]
  },
  {
   "cell_type": "code",
   "execution_count": null,
   "metadata": {},
   "outputs": [],
   "source": [
    "## Dx Cat.\n",
    "perSpotDiag=data.melt([\"spot\",\"diag\"],longitudinalQs)\n",
    "grp=sns.lineplot(\n",
    "    perSpotDiag,\n",
    "    x=\"spot\",\n",
    "    y=\"value\",\n",
    "    hue=\"diag\",\n",
    "    alpha=.8\n",
    ")\n",
    "grp.set_title(\"Score Changes\")\n",
    "grp.set_xlabel(\"Time Spot\")\n",
    "grp.set_ylabel(\"Score\")\n",
    "sns.move_legend(\n",
    "    grp,\n",
    "    title=\"Dx per PHQ-9\",\n",
    "    loc=\"lower left\",\n",
    "    ncols=4,\n",
    ")\n",
    "sns.despine()"
   ]
  },
  {
   "cell_type": "markdown",
   "metadata": {},
   "source": [
    "## Crucial Question PHQ-9"
   ]
  },
  {
   "cell_type": "code",
   "execution_count": null,
   "metadata": {},
   "outputs": [],
   "source": [
    "## Spot Score Volatility per Crucial PHQ-9\n",
    "perSpotPhq9=data.melt([\"spot\",\"phq9\"],longitudinalQs)\n",
    "grp=sns.lineplot(\n",
    "    perSpotPhq9,\n",
    "    x=\"spot\",\n",
    "    y=\"value\",\n",
    "    hue=\"phq9\",\n",
    "    alpha=.8\n",
    ")\n",
    "grp.set_title(\"Spot Score Changes per PHQ-9\")\n",
    "grp.set_xlabel(\"Time Spot\")\n",
    "grp.set_ylabel(\"Score\")\n",
    "sns.move_legend(\n",
    "    grp,\n",
    "    title=\"PHQ-9\",\n",
    "    loc=\"lower left\",\n",
    "    ncols=1\n",
    ")\n",
    "sns.despine()"
   ]
  },
  {
   "cell_type": "markdown",
   "metadata": {},
   "source": [
    "## Spot Score Volatility per Sex, Age"
   ]
  },
  {
   "cell_type": "code",
   "execution_count": null,
   "metadata": {},
   "outputs": [],
   "source": [
    "# sexbin\n",
    "perSpotSex=data.melt([\"spot\",\"sex\"],longitudinalQs)\n",
    "grp=sns.lineplot(\n",
    "    perSpotSex,\n",
    "    x=\"spot\",\n",
    "    y=\"value\",\n",
    "    hue=\"sex\",\n",
    "    alpha=.8\n",
    ")\n",
    "grp.set_title(\"Agg. ICD-10 Mean Volatility per Sex\")\n",
    "grp.set_xlabel(\"Spot Time\")\n",
    "grp.set_ylabel(\"Spot Score\")\n",
    "sns.move_legend(\n",
    "    grp,\n",
    "    title=\"Sex\",\n",
    "    loc=\"lower left\",\n",
    ")\n",
    "sns.despine()"
   ]
  },
  {
   "cell_type": "code",
   "execution_count": null,
   "metadata": {},
   "outputs": [],
   "source": [
    "dataWithAge=data[data.age.notna()].copy()\n",
    "ageBin=pd.qcut(dataWithAge.age,5)\n",
    "dataWithAge[\"ageBin\"]=ageBin.cat.rename_categories(\n",
    "    [f\"{q.left:.1f}-{q.right:.1f}\" for q in ageBin.cat.categories]\n",
    ")\n",
    "perSpotAge=dataWithAge.melt([\"spot\",\"ageBin\"],longitudinalQs)"
   ]
  },
  {
   "cell_type": "code",
   "execution_count": null,
   "metadata": {},
   "outputs": [],
   "source": [
    "perSpotAge=dataWithAge.melt([\"spot\",\"ageBin\"],\"happiness.score\")"
   ]
  }
 ],
 "metadata": {
  "language_info": {
   "name": "python"
  }
 },
 "nbformat": 4,
 "nbformat_minor": 2
}
