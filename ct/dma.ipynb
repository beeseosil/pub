{
 "cells": [
  {
   "attachments": {},
   "cell_type": "markdown",
   "id": "32e2f1de",
   "metadata": {},
   "source": [
    "## 임상시험 데이터: DB Specification Sheet 보기\n",
    "### 목적\n",
    "DB Specsheet는 CRF 화면 구성뿐만 아니라 모든 데이터셋(sas7bdat/xport)의 컬럼 사양을 포함한다. DB Specsheet를 바탕으로 각 데이터셋의 컬럼 사양을 추출하려 한다.\n",
    "\n",
    "### 준비\n",
    "임상시험 데이터: [cafe.naver.com/dmisimportant/104](cafe.naver.com/dmisimportant/104)"
   ]
  },
  {
   "attachments": {},
   "cell_type": "markdown",
   "id": "5b198e4c",
   "metadata": {},
   "source": [
    "### Libraries"
   ]
  },
  {
   "cell_type": "code",
   "execution_count": 132,
   "id": "9a715d8c",
   "metadata": {},
   "outputs": [],
   "source": [
    "import os\n",
    "import pandas as pd"
   ]
  },
  {
   "attachments": {},
   "cell_type": "markdown",
   "id": "6285c2fb",
   "metadata": {},
   "source": [
    "### Variables\n",
    "Specsheet, 데이터셋 경로 설정"
   ]
  },
  {
   "cell_type": "code",
   "execution_count": 133,
   "id": "430fcbcb",
   "metadata": {},
   "outputs": [],
   "source": [
    "ornament=\"-\"*10\n",
    "ext=(\".sas7bdat\",\".xport\")\n",
    "path_spec=\"C:/code/CUBEDEMO2017/spec.xlsx\"\n",
    "path_set=\"C:/code/CUBEDEMO2017/SASSET/\""
   ]
  },
  {
   "attachments": {},
   "cell_type": "markdown",
   "id": "84f000c9",
   "metadata": {},
   "source": [
    "#### 데이터셋: 로드\n",
    "데이터셋 로드 및 이상 여부 확인"
   ]
  },
  {
   "cell_type": "code",
   "execution_count": 134,
   "id": "e99a0fd0",
   "metadata": {
    "scrolled": true
   },
   "outputs": [
    {
     "name": "stdout",
     "output_type": "stream",
     "text": [
      "---------- number of loaded sas7bdat: 27\n",
      "---------- domain: \n",
      " dict_keys(['AE', 'AY', 'CM', 'CT', 'CY', 'DA', 'DM', 'DS', 'DY', 'EF', 'EG', 'EN', 'ES', 'IE', 'IP', 'LB', 'LC', 'LY', 'MH', 'MY', 'PD', 'PG', 'RN', 'SN', 'SU', 'SV', 'VS']) \n",
      " 27 domains\n"
     ]
    }
   ],
   "source": [
    "sasobj=[obj for obj in os.scandir(path_set) if any(map(obj.path.lower().__contains__,ext)) and obj.is_file()]\n",
    "sasbad=[obj for obj in sasobj if obj.stat().st_size<3]\n",
    "if len(sasbad)>1:raise Exception(\"exotic file exists\")\n",
    "print(ornament,\"number of loaded sas7bdat:\",len(sasobj))\n",
    "\n",
    "def _decode(filepath):\n",
    "    data=pd.read_sas(filepath)\n",
    "    nas=data.notna().value_counts().sum()\n",
    "    bytecol=data.select_dtypes(\"object\").columns\n",
    "    data[bytecol]=data[bytecol].apply(lambda q:q.str.decode(\"utf-8\"))\n",
    "    if nas==data.notna().value_counts().sum():\n",
    "        return data\n",
    "    else:\n",
    "        print(ornament,\"error:\",filepath)\n",
    "        return None\n",
    "\n",
    "data={os.path.splitext(obj.name)[0].upper():_decode(obj.path) for obj in sasobj}\n",
    "print(ornament,\"domain:\",os.linesep,data.keys(),os.linesep,len(data),\"domains\")"
   ]
  },
  {
   "attachments": {},
   "cell_type": "markdown",
   "id": "5a16d784",
   "metadata": {},
   "source": [
    "#### 스펙시트: 로드\n",
    "스펙시트 로드 및 형태 확인\n",
    "- 100% 0 non-null 컬럼 제거"
   ]
  },
  {
   "cell_type": "code",
   "execution_count": 135,
   "id": "b9a21953",
   "metadata": {},
   "outputs": [
    {
     "name": "stdout",
     "output_type": "stream",
     "text": [
      "<class 'pandas.core.frame.DataFrame'>\n",
      "RangeIndex: 291 entries, 0 to 290\n",
      "Data columns (total 18 columns):\n",
      " #   Column           Non-Null Count  Dtype  \n",
      "---  ------           --------------  -----  \n",
      " 0   DOMAIN           291 non-null    object \n",
      " 1   PGNM             291 non-null    object \n",
      " 2   PGNO             291 non-null    int64  \n",
      " 3   PAGE_LABEL       291 non-null    object \n",
      " 4   CRF_LABEL        291 non-null    object \n",
      " 5   VISIT            291 non-null    object \n",
      " 6   ITEMID           291 non-null    object \n",
      " 7   ITEM_SEQ         291 non-null    int64  \n",
      " 8   ITEM_LABEL       291 non-null    object \n",
      " 9   CODE             107 non-null    object \n",
      " 10  LAYOUT           291 non-null    object \n",
      " 11  KEY              113 non-null    float64\n",
      " 12  TYPE_LENGTH      291 non-null    object \n",
      " 13  VIEW_TYPE        291 non-null    object \n",
      " 14  DERIVED          0 non-null      float64\n",
      " 15  DERIVED_EXPLAIN  0 non-null      float64\n",
      " 16  COMMENT          0 non-null      float64\n",
      " 17  ISSUE            0 non-null      float64\n",
      "dtypes: float64(5), int64(2), object(11)\n",
      "memory usage: 41.0+ KB\n",
      "None\n"
     ]
    },
    {
     "data": {
      "text/plain": [
       "Index(['DOMAIN', 'PGNM', 'PGNO', 'PAGE_LABEL', 'CRF_LABEL', 'VISIT', 'ITEMID',\n",
       "       'ITEM_SEQ', 'ITEM_LABEL', 'CODE', 'LAYOUT', 'KEY', 'TYPE_LENGTH',\n",
       "       'VIEW_TYPE'],\n",
       "      dtype='object')"
      ]
     },
     "execution_count": 135,
     "metadata": {},
     "output_type": "execute_result"
    }
   ],
   "source": [
    "specsheet=pd.read_excel(path_spec)\n",
    "print(specsheet.info())\n",
    "specsheet=specsheet.dropna(how=\"all\",axis=1)\n",
    "specsheet.columns"
   ]
  },
  {
   "attachments": {},
   "cell_type": "markdown",
   "id": "b3966e8b",
   "metadata": {},
   "source": [
    "#### 스펙시트: 컬럼 정의 대상 파악\n",
    "스펙시트는 CRScube 사양이라고 가정\n",
    "- 스펙시트의 모든 컬럼이 CDMS/CRF/Validation에 사용됨\n",
    "- 스펙시트 컬럼명과 데이터셋 컬럼명이 다를뿐 데이터셋의 모든 컬럼은 스펙시트 내 정의됨"
   ]
  },
  {
   "cell_type": "code",
   "execution_count": 136,
   "id": "8b2a8679",
   "metadata": {},
   "outputs": [
    {
     "name": "stdout",
     "output_type": "stream",
     "text": [
      "---------- dataset column without spec.: 0 []\n"
     ]
    }
   ],
   "source": [
    "dataset_col=[]\n",
    "[dataset_col.extend(q) for q in [w.columns for w in data.values()]]\n",
    "dataset_col_wo_spec=[q for q in dataset_col if not q in specsheet.ITEMID.unique()]\n",
    "print(ornament,\"dataset column without spec.:\",len(dataset_col_wo_spec),dataset_col_wo_spec)"
   ]
  },
  {
   "attachments": {},
   "cell_type": "markdown",
   "id": "9dc2d6bf",
   "metadata": {},
   "source": [
    "#### 스펙시트와 데이터셋의 대응 컬럼 파악\n",
    "데이터셋은 [DOMAIN..VARNAME]로서 스펙시트에 대응\n",
    "- 이를 바탕으로 스펙시트의 viewport 또는 attribute를 내고자 함"
   ]
  },
  {
   "cell_type": "code",
   "execution_count": 137,
   "id": "ba41bd92",
   "metadata": {},
   "outputs": [
    {
     "data": {
      "text/html": [
       "<div>\n",
       "<style scoped>\n",
       "    .dataframe tbody tr th:only-of-type {\n",
       "        vertical-align: middle;\n",
       "    }\n",
       "\n",
       "    .dataframe tbody tr th {\n",
       "        vertical-align: top;\n",
       "    }\n",
       "\n",
       "    .dataframe thead th {\n",
       "        text-align: right;\n",
       "    }\n",
       "</style>\n",
       "<table border=\"1\" class=\"dataframe\">\n",
       "  <thead>\n",
       "    <tr style=\"text-align: right;\">\n",
       "      <th></th>\n",
       "      <th>DOMAIN</th>\n",
       "      <th>PGNM</th>\n",
       "      <th>PGNO</th>\n",
       "      <th>PAGE_LABEL</th>\n",
       "      <th>CRF_LABEL</th>\n",
       "      <th>VISIT</th>\n",
       "      <th>ITEMID</th>\n",
       "      <th>ITEM_SEQ</th>\n",
       "      <th>ITEM_LABEL</th>\n",
       "      <th>CODE</th>\n",
       "      <th>LAYOUT</th>\n",
       "      <th>KEY</th>\n",
       "      <th>TYPE_LENGTH</th>\n",
       "      <th>VIEW_TYPE</th>\n",
       "    </tr>\n",
       "  </thead>\n",
       "  <tbody>\n",
       "    <tr>\n",
       "      <th>21</th>\n",
       "      <td>MH</td>\n",
       "      <td>MH</td>\n",
       "      <td>6</td>\n",
       "      <td>Medical History</td>\n",
       "      <td>Medical History</td>\n",
       "      <td>1</td>\n",
       "      <td>SUBJID</td>\n",
       "      <td>1</td>\n",
       "      <td>Screening Number</td>\n",
       "      <td>NaN</td>\n",
       "      <td>SYSDEFINED</td>\n",
       "      <td>1.0</td>\n",
       "      <td>C8</td>\n",
       "      <td>nvarchar2(8)</td>\n",
       "    </tr>\n",
       "    <tr>\n",
       "      <th>22</th>\n",
       "      <td>MH</td>\n",
       "      <td>MH</td>\n",
       "      <td>6</td>\n",
       "      <td>Medical History</td>\n",
       "      <td>Medical History</td>\n",
       "      <td>1</td>\n",
       "      <td>SEQ</td>\n",
       "      <td>2</td>\n",
       "      <td>Seq</td>\n",
       "      <td>NaN</td>\n",
       "      <td>SYSDEFINED</td>\n",
       "      <td>1.0</td>\n",
       "      <td>N</td>\n",
       "      <td>num</td>\n",
       "    </tr>\n",
       "    <tr>\n",
       "      <th>23</th>\n",
       "      <td>MH</td>\n",
       "      <td>MH</td>\n",
       "      <td>6</td>\n",
       "      <td>Medical History</td>\n",
       "      <td>Medical History</td>\n",
       "      <td>1</td>\n",
       "      <td>MHTERM</td>\n",
       "      <td>3</td>\n",
       "      <td>Medical history term</td>\n",
       "      <td>NaN</td>\n",
       "      <td>MEDCOD</td>\n",
       "      <td>NaN</td>\n",
       "      <td>C255</td>\n",
       "      <td>nvarchar2(255)</td>\n",
       "    </tr>\n",
       "    <tr>\n",
       "      <th>24</th>\n",
       "      <td>MH</td>\n",
       "      <td>MH</td>\n",
       "      <td>6</td>\n",
       "      <td>Medical History</td>\n",
       "      <td>Medical History</td>\n",
       "      <td>1</td>\n",
       "      <td>MHONGO</td>\n",
       "      <td>4</td>\n",
       "      <td>Ongoing</td>\n",
       "      <td>1:Yes|2:No</td>\n",
       "      <td>RADIO</td>\n",
       "      <td>NaN</td>\n",
       "      <td>N2</td>\n",
       "      <td>num</td>\n",
       "    </tr>\n",
       "    <tr>\n",
       "      <th>25</th>\n",
       "      <td>MH</td>\n",
       "      <td>MH</td>\n",
       "      <td>6</td>\n",
       "      <td>Medical History</td>\n",
       "      <td>Medical History</td>\n",
       "      <td>1</td>\n",
       "      <td>MHENDTC</td>\n",
       "      <td>5</td>\n",
       "      <td>End date</td>\n",
       "      <td>NaN</td>\n",
       "      <td>DATE</td>\n",
       "      <td>NaN</td>\n",
       "      <td>YYYY-UK-UK</td>\n",
       "      <td>nvarchar2(10)</td>\n",
       "    </tr>\n",
       "  </tbody>\n",
       "</table>\n",
       "</div>"
      ],
      "text/plain": [
       "   DOMAIN PGNM  PGNO       PAGE_LABEL        CRF_LABEL VISIT   ITEMID  \\\n",
       "21     MH   MH     6  Medical History  Medical History     1   SUBJID   \n",
       "22     MH   MH     6  Medical History  Medical History     1      SEQ   \n",
       "23     MH   MH     6  Medical History  Medical History     1   MHTERM   \n",
       "24     MH   MH     6  Medical History  Medical History     1   MHONGO   \n",
       "25     MH   MH     6  Medical History  Medical History     1  MHENDTC   \n",
       "\n",
       "    ITEM_SEQ            ITEM_LABEL        CODE      LAYOUT  KEY TYPE_LENGTH  \\\n",
       "21         1      Screening Number         NaN  SYSDEFINED  1.0          C8   \n",
       "22         2                   Seq         NaN  SYSDEFINED  1.0           N   \n",
       "23         3  Medical history term         NaN      MEDCOD  NaN        C255   \n",
       "24         4               Ongoing  1:Yes|2:No       RADIO  NaN          N2   \n",
       "25         5              End date         NaN        DATE  NaN  YYYY-UK-UK   \n",
       "\n",
       "         VIEW_TYPE  \n",
       "21    nvarchar2(8)  \n",
       "22             num  \n",
       "23  nvarchar2(255)  \n",
       "24             num  \n",
       "25   nvarchar2(10)  "
      ]
     },
     "execution_count": 137,
     "metadata": {},
     "output_type": "execute_result"
    }
   ],
   "source": [
    "mh=data[\"MH\"]\n",
    "specsheet[specsheet.DOMAIN==\"MH\"].head(5)"
   ]
  },
  {
   "attachments": {},
   "cell_type": "markdown",
   "id": "06f76e70",
   "metadata": {},
   "source": [
    "- DOMAIN, VARNAME을 인덱스로 데이터셋 스펙을 가져오는 클래스를 구성\n",
    "    - 이렇게 하는 것이 거시적이면서 레코드의 조건을 감안하는 최선으로 생각됨\n",
    "    - 팬더스의 컬럼 upcasting 문제도 해결할 수 있음"
   ]
  },
  {
   "cell_type": "code",
   "execution_count": 138,
   "id": "2214ca12",
   "metadata": {},
   "outputs": [
    {
     "data": {
      "text/plain": [
       "['AE',\n",
       " 'AE_AEACN',\n",
       " 'AE_AEACNOTH',\n",
       " 'AE_AEACNOTH_CODE',\n",
       " 'AE_AEACNOTH_CRF_LABEL',\n",
       " 'AE_AEACNOTH_ITEM_LABEL',\n",
       " 'AE_AEACNOTH_ITEM_SEQ',\n",
       " 'AE_AEACNOTH_KEY',\n",
       " 'AE_AEACNOTH_LAYOUT',\n",
       " 'AE_AEACNOTH_PAGE_LABEL']"
      ]
     },
     "execution_count": 138,
     "metadata": {},
     "output_type": "execute_result"
    }
   ],
   "source": [
    "class _spec:\n",
    "\tdef __init__(self,specsheet):\n",
    "\t\tspec=specsheet.set_index([\"DOMAIN\",\"ITEMID\"])\n",
    "\t\tspec_dupe=spec.index.duplicated()\n",
    "\t\tif any(spec_dupe):\n",
    "\t\t\treturn spec[spec_dupe]\n",
    "\t\tspec.index.names=[\"DOMAIN\",\"VARNAME\"]\n",
    "\t\tself.spec=spec\n",
    "\t\t[setattr(self,ix,spec.loc[ix]) for ix in spec.index.unique(level=\"DOMAIN\")] # DOMAIN\n",
    "\n",
    "\t\tfor ix in spec.index:\n",
    "\t\t\t_spec=list(zip(spec,spec.loc[ix]))\n",
    "\t\t\tsetattr(self,f\"{ix[0]}_{ix[1]}\",_spec) # DOMAIN.VARNAME\n",
    "\t\t\t[self.__setattr__(f\"{ix[0]}_{ix[1]}_{q[0]}\",q[1]) for q in _spec] # DOMAIN.VARNAME.COLUMN \n",
    "\n",
    "spec=_spec(specsheet)\n",
    "dir(spec)[:10]"
   ]
  },
  {
   "attachments": {},
   "cell_type": "markdown",
   "id": "2ea6471e",
   "metadata": {},
   "source": [
    "- spec에서 DOMAIN / VARNAME 별 레코드 스펙을 쿼리 가능"
   ]
  },
  {
   "cell_type": "code",
   "execution_count": 139,
   "id": "43ea2513",
   "metadata": {},
   "outputs": [
    {
     "name": "stdout",
     "output_type": "stream",
     "text": [
      "---------- Action taken with study treatment\n",
      "---------- nan\n"
     ]
    },
    {
     "data": {
      "text/html": [
       "<div>\n",
       "<style scoped>\n",
       "    .dataframe tbody tr th:only-of-type {\n",
       "        vertical-align: middle;\n",
       "    }\n",
       "\n",
       "    .dataframe tbody tr th {\n",
       "        vertical-align: top;\n",
       "    }\n",
       "\n",
       "    .dataframe thead th {\n",
       "        text-align: right;\n",
       "    }\n",
       "</style>\n",
       "<table border=\"1\" class=\"dataframe\">\n",
       "  <thead>\n",
       "    <tr style=\"text-align: right;\">\n",
       "      <th></th>\n",
       "      <th>PGNM</th>\n",
       "      <th>PGNO</th>\n",
       "      <th>PAGE_LABEL</th>\n",
       "      <th>CRF_LABEL</th>\n",
       "      <th>VISIT</th>\n",
       "      <th>ITEM_SEQ</th>\n",
       "      <th>ITEM_LABEL</th>\n",
       "      <th>CODE</th>\n",
       "      <th>LAYOUT</th>\n",
       "      <th>KEY</th>\n",
       "      <th>TYPE_LENGTH</th>\n",
       "      <th>VIEW_TYPE</th>\n",
       "    </tr>\n",
       "    <tr>\n",
       "      <th>VARNAME</th>\n",
       "      <th></th>\n",
       "      <th></th>\n",
       "      <th></th>\n",
       "      <th></th>\n",
       "      <th></th>\n",
       "      <th></th>\n",
       "      <th></th>\n",
       "      <th></th>\n",
       "      <th></th>\n",
       "      <th></th>\n",
       "      <th></th>\n",
       "      <th></th>\n",
       "    </tr>\n",
       "  </thead>\n",
       "  <tbody>\n",
       "    <tr>\n",
       "      <th>INV_PT</th>\n",
       "      <td>AE</td>\n",
       "      <td>23</td>\n",
       "      <td>Adverse Event</td>\n",
       "      <td>Adverse Event</td>\n",
       "      <td>3003,5003</td>\n",
       "      <td>34</td>\n",
       "      <td>MedDRA_INV_Preferred Term</td>\n",
       "      <td>NaN</td>\n",
       "      <td>SYSDEFINED</td>\n",
       "      <td>1.0</td>\n",
       "      <td>C100</td>\n",
       "      <td>nvarchar2(100)</td>\n",
       "    </tr>\n",
       "    <tr>\n",
       "      <th>INV_HLGT</th>\n",
       "      <td>AE</td>\n",
       "      <td>23</td>\n",
       "      <td>Adverse Event</td>\n",
       "      <td>Adverse Event</td>\n",
       "      <td>3003,5003</td>\n",
       "      <td>17</td>\n",
       "      <td>MedDRA_INV_High Level Group Term</td>\n",
       "      <td>NaN</td>\n",
       "      <td>SYSDEFINED</td>\n",
       "      <td>1.0</td>\n",
       "      <td>C100</td>\n",
       "      <td>nvarchar2(100)</td>\n",
       "    </tr>\n",
       "    <tr>\n",
       "      <th>INV_HLGTCD</th>\n",
       "      <td>AE</td>\n",
       "      <td>23</td>\n",
       "      <td>Adverse Event</td>\n",
       "      <td>Adverse Event</td>\n",
       "      <td>3003,5003</td>\n",
       "      <td>37</td>\n",
       "      <td>MedDRA_INV_High Level Group Term Code</td>\n",
       "      <td>NaN</td>\n",
       "      <td>SYSDEFINED</td>\n",
       "      <td>1.0</td>\n",
       "      <td>N</td>\n",
       "      <td>num</td>\n",
       "    </tr>\n",
       "    <tr>\n",
       "      <th>AEOUT</th>\n",
       "      <td>AE</td>\n",
       "      <td>23</td>\n",
       "      <td>Adverse Event</td>\n",
       "      <td>Adverse Event</td>\n",
       "      <td>3003,5003</td>\n",
       "      <td>7</td>\n",
       "      <td>Outcome</td>\n",
       "      <td>1:Fatal|2:Not recovered/Not resolved|3:Recover...</td>\n",
       "      <td>DROPDOWN</td>\n",
       "      <td>NaN</td>\n",
       "      <td>N2</td>\n",
       "      <td>num</td>\n",
       "    </tr>\n",
       "    <tr>\n",
       "      <th>PTCD</th>\n",
       "      <td>AE</td>\n",
       "      <td>23</td>\n",
       "      <td>Adverse Event</td>\n",
       "      <td>Adverse Event</td>\n",
       "      <td>3003,5003</td>\n",
       "      <td>26</td>\n",
       "      <td>MedDRA_DM_Preferred Term Code</td>\n",
       "      <td>NaN</td>\n",
       "      <td>SYSDEFINED</td>\n",
       "      <td>1.0</td>\n",
       "      <td>N</td>\n",
       "      <td>num</td>\n",
       "    </tr>\n",
       "  </tbody>\n",
       "</table>\n",
       "</div>"
      ],
      "text/plain": [
       "           PGNM  PGNO     PAGE_LABEL      CRF_LABEL      VISIT  ITEM_SEQ  \\\n",
       "VARNAME                                                                    \n",
       "INV_PT       AE    23  Adverse Event  Adverse Event  3003,5003        34   \n",
       "INV_HLGT     AE    23  Adverse Event  Adverse Event  3003,5003        17   \n",
       "INV_HLGTCD   AE    23  Adverse Event  Adverse Event  3003,5003        37   \n",
       "AEOUT        AE    23  Adverse Event  Adverse Event  3003,5003         7   \n",
       "PTCD         AE    23  Adverse Event  Adverse Event  3003,5003        26   \n",
       "\n",
       "                                       ITEM_LABEL  \\\n",
       "VARNAME                                             \n",
       "INV_PT                  MedDRA_INV_Preferred Term   \n",
       "INV_HLGT         MedDRA_INV_High Level Group Term   \n",
       "INV_HLGTCD  MedDRA_INV_High Level Group Term Code   \n",
       "AEOUT                                     Outcome   \n",
       "PTCD                MedDRA_DM_Preferred Term Code   \n",
       "\n",
       "                                                         CODE      LAYOUT  \\\n",
       "VARNAME                                                                     \n",
       "INV_PT                                                    NaN  SYSDEFINED   \n",
       "INV_HLGT                                                  NaN  SYSDEFINED   \n",
       "INV_HLGTCD                                                NaN  SYSDEFINED   \n",
       "AEOUT       1:Fatal|2:Not recovered/Not resolved|3:Recover...    DROPDOWN   \n",
       "PTCD                                                      NaN  SYSDEFINED   \n",
       "\n",
       "            KEY TYPE_LENGTH       VIEW_TYPE  \n",
       "VARNAME                                      \n",
       "INV_PT      1.0        C100  nvarchar2(100)  \n",
       "INV_HLGT    1.0        C100  nvarchar2(100)  \n",
       "INV_HLGTCD  1.0           N             num  \n",
       "AEOUT       NaN          N2             num  \n",
       "PTCD        1.0           N             num  "
      ]
     },
     "execution_count": 139,
     "metadata": {},
     "output_type": "execute_result"
    }
   ],
   "source": [
    "print(ornament,spec.AE_AEACN_ITEM_LABEL)\n",
    "print(ornament,spec.AE_AEACN_KEY)\n",
    "spec.AE.sample(5)"
   ]
  },
  {
   "attachments": {},
   "cell_type": "markdown",
   "id": "ea89c9c2",
   "metadata": {},
   "source": [
    "- TYPE_LENGTH(CRF 상 edit check 용), VIEW_TYPE(DB 상 type)로 기술적 무결성 확인이 가능\n",
    "    - 예컨대 SUBJID는 C8(character 8)이어야 함"
   ]
  },
  {
   "cell_type": "code",
   "execution_count": 140,
   "id": "81f03b45",
   "metadata": {},
   "outputs": [],
   "source": [
    "def get_ectl(type_length):\n",
    "    typechar=type_length[0]\n",
    "    if typechar==\"C\":\n",
    "        return str,int(type_length[1:])\n",
    "    elif typechar==\"N\":\n",
    "        lenchar=type_length[1:]\n",
    "        if \".\" in lenchar:\n",
    "            deci=lenchar.index(\".\")\n",
    "            x0=lenchar[:deci]\n",
    "            x1=lenchar[deci+1:]\n",
    "            return float,sum(map(int,(x0,x1)))+1\n",
    "        else:\n",
    "            return float,int(lenchar)\n",
    "    else:\n",
    "        raise NotImplementedError(\"\")\n",
    "\n",
    "def ec(data,ect):\n",
    "    data=data.to_frame()\n",
    "    data[\"_TYPE\"]=[isinstance(q,ect[0]) for q in data.iloc[:,0]]\n",
    "    if all(data._TYPE):\n",
    "        data[\"_LEN\"]=data.iloc[:,0].str.len()==ect[1]\n",
    "        if all(data._LEN):\n",
    "            return True\n",
    "    return data[~(data._TYPE+data._LEN)]"
   ]
  },
  {
   "cell_type": "code",
   "execution_count": 141,
   "id": "41650d6d",
   "metadata": {},
   "outputs": [
    {
     "data": {
      "text/plain": [
       "(str, 8)"
      ]
     },
     "execution_count": 141,
     "metadata": {},
     "output_type": "execute_result"
    }
   ],
   "source": [
    "get_ectl(spec.AE_SUBJID_TYPE_LENGTH)"
   ]
  },
  {
   "cell_type": "code",
   "execution_count": 142,
   "id": "a7bbce4b",
   "metadata": {},
   "outputs": [
    {
     "data": {
      "text/plain": [
       "True"
      ]
     },
     "execution_count": 142,
     "metadata": {},
     "output_type": "execute_result"
    }
   ],
   "source": [
    "ec(mh.SUBJID,get_ectl(spec.AE_SUBJID_TYPE_LENGTH))"
   ]
  },
  {
   "attachments": {},
   "cell_type": "markdown",
   "id": "7d1f1712",
   "metadata": {},
   "source": [
    "- mh.SUBJID는 문제가 없음"
   ]
  },
  {
   "attachments": {},
   "cell_type": "markdown",
   "id": "63f92a7e",
   "metadata": {},
   "source": [
    "### 후기\n",
    "- Specsheet에서 KEY가 1이 아닐 때 빈 값이 허용됨\n",
    "    - Optional, conditional인 CRF 항목\n",
    "    - longitudinal이거나 visit site, visit time, sequence에 따라 하나의 테이블에도 long / wide로 다루어야 하는 부분이 혼재\n",
    "        - 결과적으로 per-row로 다루어야 함\n",
    "    - DOMAIN에 따라 categorise 하는 것은 의미가 없음\n",
    "        - Per-row spec을 다루어야 함\n",
    "- 프로토콜 및 당국 규제에 의거하되, CRF 항목은 최소화하고, production이면 end user에게 모든 항목은 가능한 채우도록 함"
   ]
  }
 ],
 "metadata": {
  "kernelspec": {
   "display_name": "Python 3 (ipykernel)",
   "language": "python",
   "name": "python3"
  },
  "language_info": {
   "codemirror_mode": {
    "name": "ipython",
    "version": 3
   },
   "file_extension": ".py",
   "mimetype": "text/x-python",
   "name": "python",
   "nbconvert_exporter": "python",
   "pygments_lexer": "ipython3",
   "version": "3.10.11"
  }
 },
 "nbformat": 4,
 "nbformat_minor": 5
}
