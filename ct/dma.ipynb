{
 "cells": [
  {
   "attachments": {},
   "cell_type": "markdown",
   "id": "32e2f1de",
   "metadata": {},
   "source": [
    "## 임상시험 데이터: DB Specification Sheet 보기\n",
    "### 목적\n",
    "DB Specsheet는 CRF 화면 구성뿐만 아니라 모든 데이터셋(sas7bdat/xport)의 컬럼 사양을 포함한다. DB Specsheet를 바탕으로 각 데이터셋의 컬럼 사양을 추출하려 한다.\n",
    "\n",
    "### 준비\n",
    "임상시험 데이터: [cafe.naver.com/dmisimportant/104](cafe.naver.com/dmisimportant/104)"
   ]
  },
  {
   "attachments": {},
   "cell_type": "markdown",
   "id": "5b198e4c",
   "metadata": {},
   "source": [
    "### Libraries"
   ]
  },
  {
   "cell_type": "code",
   "execution_count": 60,
   "id": "9a715d8c",
   "metadata": {},
   "outputs": [],
   "source": [
    "import os\n",
    "import pandas as pd"
   ]
  },
  {
   "attachments": {},
   "cell_type": "markdown",
   "id": "6285c2fb",
   "metadata": {},
   "source": [
    "### Variables\n",
    "Specsheet, 데이터셋 경로 설정"
   ]
  },
  {
   "cell_type": "code",
   "execution_count": 61,
   "id": "430fcbcb",
   "metadata": {},
   "outputs": [],
   "source": [
    "ornament=\"-\"*10\n",
    "ext=(\".sas7bdat\",\".xport\")\n",
    "specsheet=\"C:/code/CUBEDEMO2017/spec.xlsx\"\n",
    "path_set=\"C:/code/CUBEDEMO2017/SASSET/\""
   ]
  },
  {
   "attachments": {},
   "cell_type": "markdown",
   "id": "84f000c9",
   "metadata": {},
   "source": [
    "#### 데이터셋: 로드\n",
    "데이터셋 로드 및 이상 여부 확인"
   ]
  },
  {
   "cell_type": "code",
   "execution_count": 62,
   "id": "e99a0fd0",
   "metadata": {
    "scrolled": true
   },
   "outputs": [
    {
     "name": "stdout",
     "output_type": "stream",
     "text": [
      "---------- number of loaded sas7bdat: 27\n",
      "---------- domain: \n",
      " dict_keys(['AE', 'AY', 'CM', 'CT', 'CY', 'DA', 'DM', 'DS', 'DY', 'EF', 'EG', 'EN', 'ES', 'IE', 'IP', 'LB', 'LC', 'LY', 'MH', 'MY', 'PD', 'PG', 'RN', 'SN', 'SU', 'SV', 'VS']) \n",
      " 27 domains\n"
     ]
    }
   ],
   "source": [
    "sasobj=[obj for obj in os.scandir(path_set) if any(map(obj.path.lower().__contains__,ext)) and obj.is_file()]\n",
    "sasbad=[obj for obj in sasobj if obj.stat().st_size<3]\n",
    "if len(sasbad)>1:raise Exception(\"exotic file exists\")\n",
    "print(ornament,\"number of loaded sas7bdat:\",len(sasobj))\n",
    "\n",
    "def _decode(filepath):\n",
    "    data=pd.read_sas(filepath)\n",
    "    nas=data.notna().value_counts().sum()\n",
    "    bytecol=data.select_dtypes(\"object\").columns\n",
    "    data[bytecol]=data[bytecol].apply(lambda q:q.str.decode(\"utf-8\"))\n",
    "    if nas==data.notna().value_counts().sum():\n",
    "        return data\n",
    "    else:\n",
    "        print(ornament,\"error:\",filepath)\n",
    "        return None\n",
    "\n",
    "data={os.path.splitext(obj.name)[0].upper():_decode(obj.path) for obj in sasobj}\n",
    "print(ornament,\"domain:\",os.linesep,data.keys(),os.linesep,len(data),\"domains\")"
   ]
  },
  {
   "attachments": {},
   "cell_type": "markdown",
   "id": "5a16d784",
   "metadata": {},
   "source": [
    "#### 스펙시트: 로드\n",
    "스펙시트 로드 및 형태 확인\n",
    "- 100% 0 non-null 컬럼 제거"
   ]
  },
  {
   "cell_type": "code",
   "execution_count": 63,
   "id": "b9a21953",
   "metadata": {},
   "outputs": [
    {
     "name": "stdout",
     "output_type": "stream",
     "text": [
      "<class 'pandas.core.frame.DataFrame'>\n",
      "RangeIndex: 291 entries, 0 to 290\n",
      "Data columns (total 18 columns):\n",
      " #   Column           Non-Null Count  Dtype  \n",
      "---  ------           --------------  -----  \n",
      " 0   DOMAIN           291 non-null    object \n",
      " 1   PGNM             291 non-null    object \n",
      " 2   PGNO             291 non-null    int64  \n",
      " 3   PAGE_LABEL       291 non-null    object \n",
      " 4   CRF_LABEL        291 non-null    object \n",
      " 5   VISIT            291 non-null    object \n",
      " 6   ITEMID           291 non-null    object \n",
      " 7   ITEM_SEQ         291 non-null    int64  \n",
      " 8   ITEM_LABEL       291 non-null    object \n",
      " 9   CODE             107 non-null    object \n",
      " 10  LAYOUT           291 non-null    object \n",
      " 11  KEY              113 non-null    float64\n",
      " 12  TYPE_LENGTH      291 non-null    object \n",
      " 13  VIEW_TYPE        291 non-null    object \n",
      " 14  DERIVED          0 non-null      float64\n",
      " 15  DERIVED_EXPLAIN  0 non-null      float64\n",
      " 16  COMMENT          0 non-null      float64\n",
      " 17  ISSUE            0 non-null      float64\n",
      "dtypes: float64(5), int64(2), object(11)\n",
      "memory usage: 41.0+ KB\n",
      "None\n"
     ]
    },
    {
     "data": {
      "text/plain": [
       "Index(['DOMAIN', 'PGNM', 'PGNO', 'PAGE_LABEL', 'CRF_LABEL', 'VISIT', 'ITEMID',\n",
       "       'ITEM_SEQ', 'ITEM_LABEL', 'CODE', 'LAYOUT', 'KEY', 'TYPE_LENGTH',\n",
       "       'VIEW_TYPE'],\n",
       "      dtype='object')"
      ]
     },
     "execution_count": 63,
     "metadata": {},
     "output_type": "execute_result"
    }
   ],
   "source": [
    "spec=pd.read_excel(specsheet)\n",
    "print(spec.info())\n",
    "spec=spec.dropna(how=\"all\",axis=1)\n",
    "spec.columns"
   ]
  },
  {
   "attachments": {},
   "cell_type": "markdown",
   "id": "b3966e8b",
   "metadata": {},
   "source": [
    "#### 스펙시트: 컬럼 정의 대상 파악\n",
    "스펙시트는 CRScube 사양이라고 가정\n",
    "- 스펙시트의 모든 컬럼이 CDMS/CRF/Validation에 사용됨\n",
    "- 스펙시트 컬럼명과 데이터셋 컬럼명이 다를뿐 데이터셋의 모든 컬럼은 스펙시트 내 정의됨"
   ]
  },
  {
   "cell_type": "code",
   "execution_count": 64,
   "id": "8b2a8679",
   "metadata": {},
   "outputs": [
    {
     "name": "stdout",
     "output_type": "stream",
     "text": [
      "---------- dataset column without spec.: 0 []\n"
     ]
    }
   ],
   "source": [
    "dataset_col=[]\n",
    "[dataset_col.extend(q) for q in [w.columns for w in data.values()]]\n",
    "dataset_col_wo_spec=[q for q in dataset_col if not q in spec.ITEMID.unique()]\n",
    "print(ornament,\"dataset column without spec.:\",len(dataset_col_wo_spec),dataset_col_wo_spec)"
   ]
  },
  {
   "attachments": {},
   "cell_type": "markdown",
   "id": "9dc2d6bf",
   "metadata": {},
   "source": [
    "#### 스펙시트와 데이터셋의 우선 대응 컬럼 파악\n",
    "데이터셋은 [DOMAIN..VARNAME]로서 스펙시트에 대응\n",
    "- 먼저 DOMAIN으로 시작/쿼리하며 스펙시트의 viewport 및 attribute를 내고자 함"
   ]
  },
  {
   "cell_type": "code",
   "execution_count": 65,
   "id": "ba41bd92",
   "metadata": {},
   "outputs": [
    {
     "data": {
      "text/html": [
       "<div>\n",
       "<style scoped>\n",
       "    .dataframe tbody tr th:only-of-type {\n",
       "        vertical-align: middle;\n",
       "    }\n",
       "\n",
       "    .dataframe tbody tr th {\n",
       "        vertical-align: top;\n",
       "    }\n",
       "\n",
       "    .dataframe thead th {\n",
       "        text-align: right;\n",
       "    }\n",
       "</style>\n",
       "<table border=\"1\" class=\"dataframe\">\n",
       "  <thead>\n",
       "    <tr style=\"text-align: right;\">\n",
       "      <th></th>\n",
       "      <th>DOMAIN</th>\n",
       "      <th>PGNM</th>\n",
       "      <th>PGNO</th>\n",
       "      <th>PAGE_LABEL</th>\n",
       "      <th>CRF_LABEL</th>\n",
       "      <th>VISIT</th>\n",
       "      <th>ITEMID</th>\n",
       "      <th>ITEM_SEQ</th>\n",
       "      <th>ITEM_LABEL</th>\n",
       "      <th>CODE</th>\n",
       "      <th>LAYOUT</th>\n",
       "      <th>KEY</th>\n",
       "      <th>TYPE_LENGTH</th>\n",
       "      <th>VIEW_TYPE</th>\n",
       "    </tr>\n",
       "  </thead>\n",
       "  <tbody>\n",
       "    <tr>\n",
       "      <th>21</th>\n",
       "      <td>MH</td>\n",
       "      <td>MH</td>\n",
       "      <td>6</td>\n",
       "      <td>Medical History</td>\n",
       "      <td>Medical History</td>\n",
       "      <td>1</td>\n",
       "      <td>SUBJID</td>\n",
       "      <td>1</td>\n",
       "      <td>Screening Number</td>\n",
       "      <td>NaN</td>\n",
       "      <td>SYSDEFINED</td>\n",
       "      <td>1.0</td>\n",
       "      <td>C8</td>\n",
       "      <td>nvarchar2(8)</td>\n",
       "    </tr>\n",
       "    <tr>\n",
       "      <th>22</th>\n",
       "      <td>MH</td>\n",
       "      <td>MH</td>\n",
       "      <td>6</td>\n",
       "      <td>Medical History</td>\n",
       "      <td>Medical History</td>\n",
       "      <td>1</td>\n",
       "      <td>SEQ</td>\n",
       "      <td>2</td>\n",
       "      <td>Seq</td>\n",
       "      <td>NaN</td>\n",
       "      <td>SYSDEFINED</td>\n",
       "      <td>1.0</td>\n",
       "      <td>N</td>\n",
       "      <td>num</td>\n",
       "    </tr>\n",
       "    <tr>\n",
       "      <th>23</th>\n",
       "      <td>MH</td>\n",
       "      <td>MH</td>\n",
       "      <td>6</td>\n",
       "      <td>Medical History</td>\n",
       "      <td>Medical History</td>\n",
       "      <td>1</td>\n",
       "      <td>MHTERM</td>\n",
       "      <td>3</td>\n",
       "      <td>Medical history term</td>\n",
       "      <td>NaN</td>\n",
       "      <td>MEDCOD</td>\n",
       "      <td>NaN</td>\n",
       "      <td>C255</td>\n",
       "      <td>nvarchar2(255)</td>\n",
       "    </tr>\n",
       "    <tr>\n",
       "      <th>24</th>\n",
       "      <td>MH</td>\n",
       "      <td>MH</td>\n",
       "      <td>6</td>\n",
       "      <td>Medical History</td>\n",
       "      <td>Medical History</td>\n",
       "      <td>1</td>\n",
       "      <td>MHONGO</td>\n",
       "      <td>4</td>\n",
       "      <td>Ongoing</td>\n",
       "      <td>1:Yes|2:No</td>\n",
       "      <td>RADIO</td>\n",
       "      <td>NaN</td>\n",
       "      <td>N2</td>\n",
       "      <td>num</td>\n",
       "    </tr>\n",
       "    <tr>\n",
       "      <th>25</th>\n",
       "      <td>MH</td>\n",
       "      <td>MH</td>\n",
       "      <td>6</td>\n",
       "      <td>Medical History</td>\n",
       "      <td>Medical History</td>\n",
       "      <td>1</td>\n",
       "      <td>MHENDTC</td>\n",
       "      <td>5</td>\n",
       "      <td>End date</td>\n",
       "      <td>NaN</td>\n",
       "      <td>DATE</td>\n",
       "      <td>NaN</td>\n",
       "      <td>YYYY-UK-UK</td>\n",
       "      <td>nvarchar2(10)</td>\n",
       "    </tr>\n",
       "  </tbody>\n",
       "</table>\n",
       "</div>"
      ],
      "text/plain": [
       "   DOMAIN PGNM  PGNO       PAGE_LABEL        CRF_LABEL VISIT   ITEMID  \\\n",
       "21     MH   MH     6  Medical History  Medical History     1   SUBJID   \n",
       "22     MH   MH     6  Medical History  Medical History     1      SEQ   \n",
       "23     MH   MH     6  Medical History  Medical History     1   MHTERM   \n",
       "24     MH   MH     6  Medical History  Medical History     1   MHONGO   \n",
       "25     MH   MH     6  Medical History  Medical History     1  MHENDTC   \n",
       "\n",
       "    ITEM_SEQ            ITEM_LABEL        CODE      LAYOUT  KEY TYPE_LENGTH  \\\n",
       "21         1      Screening Number         NaN  SYSDEFINED  1.0          C8   \n",
       "22         2                   Seq         NaN  SYSDEFINED  1.0           N   \n",
       "23         3  Medical history term         NaN      MEDCOD  NaN        C255   \n",
       "24         4               Ongoing  1:Yes|2:No       RADIO  NaN          N2   \n",
       "25         5              End date         NaN        DATE  NaN  YYYY-UK-UK   \n",
       "\n",
       "         VIEW_TYPE  \n",
       "21    nvarchar2(8)  \n",
       "22             num  \n",
       "23  nvarchar2(255)  \n",
       "24             num  \n",
       "25   nvarchar2(10)  "
      ]
     },
     "execution_count": 65,
     "metadata": {},
     "output_type": "execute_result"
    }
   ],
   "source": [
    "mh=data[\"MH\"]\n",
    "spec[spec.DOMAIN==\"MH\"].head(5)"
   ]
  },
  {
   "attachments": {},
   "cell_type": "markdown",
   "id": "06f76e70",
   "metadata": {},
   "source": [
    "- DOMAIN과 PAGE_LABEL, CRF_LABEL은 pair이나 이외는 VARNAME에 대응함\n",
    "- 이에, per-DOMAIN spec을 만들고 거기서 per-VARNAME spec을 내고자 함"
   ]
  },
  {
   "cell_type": "code",
   "execution_count": 66,
   "id": "2214ca12",
   "metadata": {},
   "outputs": [
    {
     "data": {
      "text/plain": [
       "DOMAIN                       MH\n",
       "PGNM                         MH\n",
       "PGNO                          6\n",
       "PAGE_LABEL      Medical History\n",
       "CRF_LABEL       Medical History\n",
       "VISIT                         1\n",
       "ITEMID                   SUBJID\n",
       "ITEM_SEQ                      1\n",
       "ITEM_LABEL     Screening Number\n",
       "CODE                        NaN\n",
       "LAYOUT               SYSDEFINED\n",
       "KEY                         1.0\n",
       "TYPE_LENGTH                  C8\n",
       "VIEW_TYPE          nvarchar2(8)\n",
       "Name: 21, dtype: object"
      ]
     },
     "execution_count": 66,
     "metadata": {},
     "output_type": "execute_result"
    }
   ],
   "source": [
    "class specs:\n",
    "    def __init__(self,spec):\n",
    "        try:\n",
    "            spec[\"CODE\"]=spec.CODE.apply(lambda q:dict(item.split(\":\") for item in q.split(\"|\")) if pd.notna(q) else q).dropna()\n",
    "        except Exception as err:\n",
    "            print(err)\n",
    "        self.data={domain:spec[spec.DOMAIN==domain] for domain in spec.DOMAIN.unique()}\n",
    "    def bydom(self,domain):\n",
    "        self.spec=self.data[domain]\n",
    "        return self.spec\n",
    "    def byvar(self,domain,varname):\n",
    "        spec=self.bydom(domain)\n",
    "        spec=spec[spec.ITEMID==varname].iloc[0]\n",
    "        _spec=dict(zip(spec.index,spec))\n",
    "        # setattr(q,w,e)\n",
    "        self.domain=domain\n",
    "        self.crf=_spec[\"CRF_LABEL\"]\n",
    "        self.visit=_spec[\"VISIT\"]\n",
    "        self.var=_spec[\"ITEMID\"]\n",
    "        self.varname=_spec[\"ITEM_LABEL\"]\n",
    "        self.code=_spec[\"CODE\"]\n",
    "        self.type=_spec[\"TYPE_LENGTH\"]\n",
    "        return spec\n",
    "    \n",
    "spec=specs(spec)\n",
    "spec.bydom(\"MH\")\n",
    "spec.byvar(\"MH\",\"SUBJID\")"
   ]
  },
  {
   "attachments": {},
   "cell_type": "markdown",
   "id": "ea89c9c2",
   "metadata": {},
   "source": [
    "- DOMAIN, VARNAME(ITEMID)의 정의를 딕셔너리 또는 attribute로 냄\n",
    "- CODE에 따라 코딩 또는 디코딩 가능\n",
    "- TYPE_LENGTH(CRF 상 edit check 용), VIEW_TYPE(DB 상 type)로 기본적 무결성 확인이 가능\n",
    "    - 예컨대 SUBJID는 C8(character 8)이어야 함"
   ]
  },
  {
   "cell_type": "code",
   "execution_count": 72,
   "id": "81f03b45",
   "metadata": {},
   "outputs": [],
   "source": [
    "def _get_ect(type_length):\n",
    "    type=type_length[0]\n",
    "    if type==\"C\":\n",
    "        return str,int(type_length[1:])\n",
    "    elif type==\"N\":\n",
    "        typelenstr=type_length[1:] # 3.2\n",
    "        if \".\" in type_length:\n",
    "            deci=typelenstr.index(\".\")\n",
    "            x0=typelenstr[:deci]\n",
    "            x1=typelenstr[deci+1:]\n",
    "            return float,sum(map(int,(x0,x1)))+1\n",
    "        else:\n",
    "            return float,int(type_length[1:])\n",
    "    elif type==\"Y\":\n",
    "        return NotImplementedError(\"\")\n",
    "\n",
    "def _edit_check(data,ect):\n",
    "    data=data.to_frame()\n",
    "    data[\"_TYPE\"]=[isinstance(q,ect[0]) for q in data.iloc[:,0]]\n",
    "    if all(data._TYPE):\n",
    "        data[\"_LEN\"]=data.iloc[:,0].str.len()==ect[1]\n",
    "        if all(data._LEN):\n",
    "            return True\n",
    "    return data[~(data._TYPE+data._LEN)]"
   ]
  },
  {
   "cell_type": "code",
   "execution_count": 68,
   "id": "41650d6d",
   "metadata": {},
   "outputs": [
    {
     "data": {
      "text/plain": [
       "(str, 8)"
      ]
     },
     "execution_count": 68,
     "metadata": {},
     "output_type": "execute_result"
    }
   ],
   "source": [
    "print(_get_ect(spec.type))"
   ]
  },
  {
   "cell_type": "code",
   "execution_count": 74,
   "id": "a7bbce4b",
   "metadata": {},
   "outputs": [
    {
     "data": {
      "text/plain": [
       "True"
      ]
     },
     "execution_count": 74,
     "metadata": {},
     "output_type": "execute_result"
    }
   ],
   "source": [
    "_edit_check(mh.SUBJID,_get_ect(spec.type))"
   ]
  },
  {
   "attachments": {},
   "cell_type": "markdown",
   "id": "7d1f1712",
   "metadata": {},
   "source": [
    "- mh.SUBJID는 문제가 없음"
   ]
  },
  {
   "attachments": {},
   "cell_type": "markdown",
   "id": "63f92a7e",
   "metadata": {},
   "source": [
    "### 후기\n",
    "- Specsheet에서 KEY가 1이 아닐 때 빈 값이 허용된다.\n",
    "    - 특히 longitudinal이거나 visit site, visit time에 따라 하나의 테이블에도 long / wide로 다루어야 하는 부분이 혼재한다.\n",
    "    - 때문에 DOMAIN 등에 따라 거시적으로 categorise 하는 것은 의미가 없다.\n",
    "        - 최종 데이터 row별로 대응 컬럼과 값을 따르는 조건문 구성이 필요하다.\n",
    "- 가장 좋은 방법은 분석 또는 당국 규제에 대응되지 않는 CRF 항목이나 데이터는 줄이고, 입력하게 되는 데이터는 CRF 디자인이나 DVP에 따라 최대한 채워넣도록 하는 것이다."
   ]
  }
 ],
 "metadata": {
  "kernelspec": {
   "display_name": "Python 3 (ipykernel)",
   "language": "python",
   "name": "python3"
  },
  "language_info": {
   "codemirror_mode": {
    "name": "ipython",
    "version": 3
   },
   "file_extension": ".py",
   "mimetype": "text/x-python",
   "name": "python",
   "nbconvert_exporter": "python",
   "pygments_lexer": "ipython3",
   "version": "3.10.11"
  }
 },
 "nbformat": 4,
 "nbformat_minor": 5
}
