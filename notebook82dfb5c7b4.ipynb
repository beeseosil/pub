{
 "cells": [
  {
   "cell_type": "markdown",
   "id": "d513979e",
   "metadata": {
    "papermill": {
     "duration": 0.003995,
     "end_time": "2023-10-18T10:26:28.260888",
     "exception": false,
     "start_time": "2023-10-18T10:26:28.256893",
     "status": "completed"
    },
    "tags": []
   },
   "source": [
    "### Import Libraries"
   ]
  },
  {
   "cell_type": "code",
   "execution_count": 1,
   "id": "f797e699",
   "metadata": {
    "execution": {
     "iopub.execute_input": "2023-10-18T10:26:28.271834Z",
     "iopub.status.busy": "2023-10-18T10:26:28.271210Z",
     "iopub.status.idle": "2023-10-18T10:26:30.788246Z",
     "shell.execute_reply": "2023-10-18T10:26:30.786938Z"
    },
    "papermill": {
     "duration": 2.524457,
     "end_time": "2023-10-18T10:26:30.790818",
     "exception": false,
     "start_time": "2023-10-18T10:26:28.266361",
     "status": "completed"
    },
    "tags": []
   },
   "outputs": [],
   "source": [
    "import numpy as np\n",
    "import pandas as pd\n",
    "\n",
    "import matplotlib.pyplot as plt\n",
    "import seaborn as sns\n",
    "\n",
    "from sklearn.preprocessing import PowerTransformer\n",
    "from sklearn.model_selection import RepeatedStratifiedKFold,cross_validate\n",
    "from sklearn.linear_model import LogisticRegression,RidgeClassifier\n",
    "from sklearn.feature_selection import RFECV"
   ]
  },
  {
   "cell_type": "markdown",
   "id": "87160fbc",
   "metadata": {
    "papermill": {
     "duration": 0.003375,
     "end_time": "2023-10-18T10:26:30.798141",
     "exception": false,
     "start_time": "2023-10-18T10:26:30.794766",
     "status": "completed"
    },
    "tags": []
   },
   "source": [
    "### See if it's clean"
   ]
  },
  {
   "cell_type": "code",
   "execution_count": 2,
   "id": "f72e7d5a",
   "metadata": {
    "execution": {
     "iopub.execute_input": "2023-10-18T10:26:30.807740Z",
     "iopub.status.busy": "2023-10-18T10:26:30.806913Z",
     "iopub.status.idle": "2023-10-18T10:26:30.873499Z",
     "shell.execute_reply": "2023-10-18T10:26:30.872350Z"
    },
    "papermill": {
     "duration": 0.074202,
     "end_time": "2023-10-18T10:26:30.876120",
     "exception": false,
     "start_time": "2023-10-18T10:26:30.801918",
     "status": "completed"
    },
    "tags": []
   },
   "outputs": [
    {
     "name": "stdout",
     "output_type": "stream",
     "text": [
      "(569, 32) 18208\n",
      "<class 'pandas.core.frame.DataFrame'>\n",
      "RangeIndex: 569 entries, 0 to 568\n",
      "Data columns (total 32 columns):\n",
      " #   Column                   Non-Null Count  Dtype  \n",
      "---  ------                   --------------  -----  \n",
      " 0   id                       569 non-null    int64  \n",
      " 1   diagnosis                569 non-null    object \n",
      " 2   radius_mean              569 non-null    float64\n",
      " 3   texture_mean             569 non-null    float64\n",
      " 4   perimeter_mean           569 non-null    float64\n",
      " 5   area_mean                569 non-null    float64\n",
      " 6   smoothness_mean          569 non-null    float64\n",
      " 7   compactness_mean         569 non-null    float64\n",
      " 8   concavity_mean           569 non-null    float64\n",
      " 9   concave points_mean      569 non-null    float64\n",
      " 10  symmetry_mean            569 non-null    float64\n",
      " 11  fractal_dimension_mean   569 non-null    float64\n",
      " 12  radius_se                569 non-null    float64\n",
      " 13  texture_se               569 non-null    float64\n",
      " 14  perimeter_se             569 non-null    float64\n",
      " 15  area_se                  569 non-null    float64\n",
      " 16  smoothness_se            569 non-null    float64\n",
      " 17  compactness_se           569 non-null    float64\n",
      " 18  concavity_se             569 non-null    float64\n",
      " 19  concave points_se        569 non-null    float64\n",
      " 20  symmetry_se              569 non-null    float64\n",
      " 21  fractal_dimension_se     569 non-null    float64\n",
      " 22  radius_worst             569 non-null    float64\n",
      " 23  texture_worst            569 non-null    float64\n",
      " 24  perimeter_worst          569 non-null    float64\n",
      " 25  area_worst               569 non-null    float64\n",
      " 26  smoothness_worst         569 non-null    float64\n",
      " 27  compactness_worst        569 non-null    float64\n",
      " 28  concavity_worst          569 non-null    float64\n",
      " 29  concave points_worst     569 non-null    float64\n",
      " 30  symmetry_worst           569 non-null    float64\n",
      " 31  fractal_dimension_worst  569 non-null    float64\n",
      "dtypes: float64(30), int64(1), object(1)\n",
      "memory usage: 142.4+ KB\n"
     ]
    }
   ],
   "source": [
    "유방암=pd.read_csv(\"/kaggle/input/breast-cancer-wisconsin-data/data.csv\")\n",
    "유방암=유방암.dropna(axis=1,how=\"all\")\n",
    "print(유방암.shape,유방암.shape[0]*유방암.shape[1])\n",
    "유방암.info()"
   ]
  },
  {
   "cell_type": "markdown",
   "id": "e2e68a7c",
   "metadata": {
    "papermill": {
     "duration": 0.003453,
     "end_time": "2023-10-18T10:26:30.883358",
     "exception": false,
     "start_time": "2023-10-18T10:26:30.879905",
     "status": "completed"
    },
    "tags": []
   },
   "source": [
    "### Preprocessing i: Slice Data"
   ]
  },
  {
   "cell_type": "code",
   "execution_count": 3,
   "id": "764f3bb8",
   "metadata": {
    "execution": {
     "iopub.execute_input": "2023-10-18T10:26:30.892634Z",
     "iopub.status.busy": "2023-10-18T10:26:30.892241Z",
     "iopub.status.idle": "2023-10-18T10:26:30.898618Z",
     "shell.execute_reply": "2023-10-18T10:26:30.897458Z"
    },
    "papermill": {
     "duration": 0.013324,
     "end_time": "2023-10-18T10:26:30.900628",
     "exception": false,
     "start_time": "2023-10-18T10:26:30.887304",
     "status": "completed"
    },
    "tags": []
   },
   "outputs": [],
   "source": [
    "yba=유방암.copy()\n",
    "ybaIndex=yba.iloc[:,0]\n",
    "ybaY=yba.iloc[:,1]\n",
    "ybaX=yba.iloc[:,2:]"
   ]
  },
  {
   "cell_type": "markdown",
   "id": "f25854a8",
   "metadata": {
    "papermill": {
     "duration": 0.003819,
     "end_time": "2023-10-18T10:26:30.908290",
     "exception": false,
     "start_time": "2023-10-18T10:26:30.904471",
     "status": "completed"
    },
    "tags": []
   },
   "source": [
    "### Preprocessing ii: Standardization & Normalization"
   ]
  },
  {
   "cell_type": "code",
   "execution_count": 4,
   "id": "bd492904",
   "metadata": {
    "execution": {
     "iopub.execute_input": "2023-10-18T10:26:30.918158Z",
     "iopub.status.busy": "2023-10-18T10:26:30.917137Z",
     "iopub.status.idle": "2023-10-18T10:26:31.034770Z",
     "shell.execute_reply": "2023-10-18T10:26:31.033653Z"
    },
    "papermill": {
     "duration": 0.124904,
     "end_time": "2023-10-18T10:26:31.036967",
     "exception": false,
     "start_time": "2023-10-18T10:26:30.912063",
     "status": "completed"
    },
    "tags": []
   },
   "outputs": [
    {
     "data": {
      "text/html": [
       "<div>\n",
       "<style scoped>\n",
       "    .dataframe tbody tr th:only-of-type {\n",
       "        vertical-align: middle;\n",
       "    }\n",
       "\n",
       "    .dataframe tbody tr th {\n",
       "        vertical-align: top;\n",
       "    }\n",
       "\n",
       "    .dataframe thead th {\n",
       "        text-align: right;\n",
       "    }\n",
       "</style>\n",
       "<table border=\"1\" class=\"dataframe\">\n",
       "  <thead>\n",
       "    <tr style=\"text-align: right;\">\n",
       "      <th></th>\n",
       "      <th>radius_mean</th>\n",
       "      <th>texture_mean</th>\n",
       "      <th>perimeter_mean</th>\n",
       "      <th>area_mean</th>\n",
       "      <th>smoothness_mean</th>\n",
       "      <th>compactness_mean</th>\n",
       "      <th>concavity_mean</th>\n",
       "      <th>concave points_mean</th>\n",
       "      <th>symmetry_mean</th>\n",
       "      <th>fractal_dimension_mean</th>\n",
       "    </tr>\n",
       "  </thead>\n",
       "  <tbody>\n",
       "    <tr>\n",
       "      <th>mean</th>\n",
       "      <td>0.0000</td>\n",
       "      <td>0.00000</td>\n",
       "      <td>-0.00000</td>\n",
       "      <td>0.0000</td>\n",
       "      <td>-0.0000</td>\n",
       "      <td>0.00000</td>\n",
       "      <td>-0.00000</td>\n",
       "      <td>0.00000</td>\n",
       "      <td>-0.00000</td>\n",
       "      <td>-0.00000</td>\n",
       "    </tr>\n",
       "    <tr>\n",
       "      <th>median</th>\n",
       "      <td>-0.0564</td>\n",
       "      <td>0.00083</td>\n",
       "      <td>-0.07175</td>\n",
       "      <td>-0.0566</td>\n",
       "      <td>0.0294</td>\n",
       "      <td>-0.03392</td>\n",
       "      <td>-0.13618</td>\n",
       "      <td>-0.23281</td>\n",
       "      <td>0.02629</td>\n",
       "      <td>-0.02013</td>\n",
       "    </tr>\n",
       "  </tbody>\n",
       "</table>\n",
       "</div>"
      ],
      "text/plain": [
       "        radius_mean  texture_mean  perimeter_mean  area_mean  smoothness_mean  \\\n",
       "mean         0.0000       0.00000        -0.00000     0.0000          -0.0000   \n",
       "median      -0.0564       0.00083        -0.07175    -0.0566           0.0294   \n",
       "\n",
       "        compactness_mean  concavity_mean  concave points_mean  symmetry_mean  \\\n",
       "mean             0.00000        -0.00000              0.00000       -0.00000   \n",
       "median          -0.03392        -0.13618             -0.23281        0.02629   \n",
       "\n",
       "        fractal_dimension_mean  \n",
       "mean                  -0.00000  \n",
       "median                -0.02013  "
      ]
     },
     "execution_count": 4,
     "metadata": {},
     "output_type": "execute_result"
    }
   ],
   "source": [
    "yeoJohnson=PowerTransformer()\n",
    "ybaX=pd.DataFrame(yeoJohnson.fit_transform(ybaX),columns=ybaX.columns)\n",
    "ybaX.agg([\"mean\",\"median\"]).filter(regex=\"mean$\").round(5)"
   ]
  },
  {
   "cell_type": "markdown",
   "id": "d0dbe94f",
   "metadata": {
    "papermill": {
     "duration": 0.003716,
     "end_time": "2023-10-18T10:26:31.044794",
     "exception": false,
     "start_time": "2023-10-18T10:26:31.041078",
     "status": "completed"
    },
    "tags": []
   },
   "source": [
    "### Preprocessing iii: RFECV: Feature Reduction"
   ]
  },
  {
   "cell_type": "code",
   "execution_count": 5,
   "id": "624e38d3",
   "metadata": {
    "execution": {
     "iopub.execute_input": "2023-10-18T10:26:31.055013Z",
     "iopub.status.busy": "2023-10-18T10:26:31.054652Z",
     "iopub.status.idle": "2023-10-18T10:26:33.429403Z",
     "shell.execute_reply": "2023-10-18T10:26:33.427795Z"
    },
    "papermill": {
     "duration": 2.382933,
     "end_time": "2023-10-18T10:26:33.432217",
     "exception": false,
     "start_time": "2023-10-18T10:26:31.049284",
     "status": "completed"
    },
    "tags": []
   },
   "outputs": [],
   "source": [
    "minFeatureCount=3\n",
    "estimator=LogisticRegression()\n",
    "kfold=RepeatedStratifiedKFold(\n",
    "    n_splits=16,\n",
    "    random_state=23301522\n",
    ")\n",
    "rfecv=RFECV(\n",
    "    estimator=estimator,\n",
    "    scoring=\"accuracy\",\n",
    "    min_features_to_select=minFeatureCount,\n",
    "    n_jobs=-1\n",
    ")\n",
    "rfecv.fit(ybaX,ybaY)\n",
    "rfeScoreCount=len(rfecv.cv_results_[\"mean_test_score\"])"
   ]
  },
  {
   "cell_type": "code",
   "execution_count": 6,
   "id": "f5e9cb6f",
   "metadata": {
    "execution": {
     "iopub.execute_input": "2023-10-18T10:26:33.442915Z",
     "iopub.status.busy": "2023-10-18T10:26:33.442471Z",
     "iopub.status.idle": "2023-10-18T10:26:33.737866Z",
     "shell.execute_reply": "2023-10-18T10:26:33.736545Z"
    },
    "papermill": {
     "duration": 0.303691,
     "end_time": "2023-10-18T10:26:33.740374",
     "exception": false,
     "start_time": "2023-10-18T10:26:33.436683",
     "status": "completed"
    },
    "tags": []
   },
   "outputs": [
    {
     "data": {
      "text/plain": [
       "<ErrorbarContainer object of 3 artists>"
      ]
     },
     "execution_count": 6,
     "metadata": {},
     "output_type": "execute_result"
    },
    {
     "data": {
      "image/png": "[encoded data removed]",
      "text/plain": [
       "<Figure size 500x200 with 1 Axes>"
      ]
     },
     "metadata": {},
     "output_type": "display_data"
    }
   ],
   "source": [
    "plt.figure(figsize=(5,2))\n",
    "plt.title(\"Logit: Selected Features Number vs. Accuracy\")\n",
    "plt.errorbar(\n",
    "    range(minFeatureCount, minFeatureCount + rfeScoreCount),\n",
    "    rfecv.cv_results_[\"mean_test_score\"],\n",
    "    yerr=rfecv.cv_results_[\"std_test_score\"]\n",
    ")"
   ]
  },
  {
   "cell_type": "code",
   "execution_count": 7,
   "id": "ff223286",
   "metadata": {
    "execution": {
     "iopub.execute_input": "2023-10-18T10:26:33.752489Z",
     "iopub.status.busy": "2023-10-18T10:26:33.751429Z",
     "iopub.status.idle": "2023-10-18T10:26:33.762700Z",
     "shell.execute_reply": "2023-10-18T10:26:33.761482Z"
    },
    "papermill": {
     "duration": 0.019861,
     "end_time": "2023-10-18T10:26:33.765437",
     "exception": false,
     "start_time": "2023-10-18T10:26:33.745576",
     "status": "completed"
    },
    "tags": []
   },
   "outputs": [
    {
     "name": "stdout",
     "output_type": "stream",
     "text": [
      "Optimal Features Count: 10\n"
     ]
    }
   ],
   "source": [
    "ybaHelpfulFeature=rfecv.feature_names_in_[rfecv.support_]\n",
    "print(f\"Optimal Features Count: {len(ybaHelpfulFeature)}\")\n",
    "ybaY_=ybaY.copy()\n",
    "ybaX_=ybaX.copy()[ybaHelpfulFeature]"
   ]
  },
  {
   "cell_type": "markdown",
   "id": "a02e9aae",
   "metadata": {
    "papermill": {
     "duration": 0.004119,
     "end_time": "2023-10-18T10:26:33.774279",
     "exception": false,
     "start_time": "2023-10-18T10:26:33.770160",
     "status": "completed"
    },
    "tags": []
   },
   "source": [
    "### Modeling i: Get an Alpha"
   ]
  },
  {
   "cell_type": "code",
   "execution_count": 8,
   "id": "58f6bdbd",
   "metadata": {
    "execution": {
     "iopub.execute_input": "2023-10-18T10:26:33.786127Z",
     "iopub.status.busy": "2023-10-18T10:26:33.785645Z",
     "iopub.status.idle": "2023-10-18T10:27:31.871221Z",
     "shell.execute_reply": "2023-10-18T10:27:31.870424Z"
    },
    "papermill": {
     "duration": 58.095193,
     "end_time": "2023-10-18T10:27:31.873994",
     "exception": false,
     "start_time": "2023-10-18T10:26:33.778801",
     "status": "completed"
    },
    "tags": []
   },
   "outputs": [],
   "source": [
    "alphas=np.logspace(-3,5,100)\n",
    "perAlphaResult=[]\n",
    "for alpha in alphas:\n",
    "    _cv=cross_validate(\n",
    "        RidgeClassifier(alpha),\n",
    "        ybaX_,\n",
    "        ybaY_,\n",
    "        scoring=\"accuracy\",\n",
    "        cv=kfold,\n",
    "        return_estimator=True,\n",
    "        n_jobs=-1\n",
    "    )\n",
    "    _cvCoef=[estimator.coef_ for estimator in _cv[\"estimator\"]]\n",
    "    _cvCoefMean=np.mean(_cvCoef,axis=0)\n",
    "    _cvScoreMean=np.mean(_cv[\"test_score\"])\n",
    "    perAlphaResult.append((\n",
    "        np.array([alpha]),\n",
    "        np.array([_cvScoreMean]),\n",
    "        _cvCoefMean[0]\n",
    "    ))\n",
    "    del _cv[\"estimator\"]"
   ]
  },
  {
   "cell_type": "code",
   "execution_count": 9,
   "id": "43327861",
   "metadata": {
    "execution": {
     "iopub.execute_input": "2023-10-18T10:27:31.884888Z",
     "iopub.status.busy": "2023-10-18T10:27:31.884542Z",
     "iopub.status.idle": "2023-10-18T10:27:32.300949Z",
     "shell.execute_reply": "2023-10-18T10:27:32.300100Z"
    },
    "papermill": {
     "duration": 0.424177,
     "end_time": "2023-10-18T10:27:32.302846",
     "exception": false,
     "start_time": "2023-10-18T10:27:31.878669",
     "status": "completed"
    },
    "tags": []
   },
   "outputs": [
    {
     "data": {
      "text/plain": [
       "Text(0.5, 1.0, 'Per-alpha Accuracy')"
      ]
     },
     "execution_count": 9,
     "metadata": {},
     "output_type": "execute_result"
    },
    {
     "data": {
      "image/png": "[encoded data removed]",
      "text/plain": [
       "<Figure size 500x200 with 1 Axes>"
      ]
     },
     "metadata": {},
     "output_type": "display_data"
    }
   ],
   "source": [
    "perAlphaDataFrameColumn=[\"alpha\",\"score\"]\n",
    "perAlphaDataFrameColumn.extend(ybaX_.columns)\n",
    "perAlphaResultDataFrame=pd.DataFrame(\n",
    "    [np.concatenate(q) for q in perAlphaResult],\n",
    "    columns=perAlphaDataFrameColumn\n",
    ")\n",
    "perAlphaBestScore=perAlphaResultDataFrame.alpha[perAlphaResultDataFrame.score.idxmax()]\n",
    "plt.figure(figsize=(5,2))\n",
    "_p=sns.lineplot(\n",
    "    x=perAlphaResultDataFrame.alpha,\n",
    "    y=perAlphaResultDataFrame.score\n",
    ")\n",
    "_p.set_xscale(\"log\")\n",
    "_p.axvline(\n",
    "    x=perAlphaBestScore,\n",
    "    color=\".5\"\n",
    ")\n",
    "_p.text(\n",
    "    x=perAlphaBestScore,\n",
    "    y=perAlphaResultDataFrame.score.min(),\n",
    "    s=f\"{perAlphaBestScore}\"\n",
    ")\n",
    "_p.set_title(\"Per-alpha Accuracy\")"
   ]
  },
  {
   "cell_type": "markdown",
   "id": "32b7f236",
   "metadata": {
    "papermill": {
     "duration": 0.004837,
     "end_time": "2023-10-18T10:27:32.312766",
     "exception": false,
     "start_time": "2023-10-18T10:27:32.307929",
     "status": "completed"
    },
    "tags": []
   },
   "source": [
    "### Modeling ii: Model"
   ]
  },
  {
   "cell_type": "code",
   "execution_count": 10,
   "id": "f081f86f",
   "metadata": {
    "execution": {
     "iopub.execute_input": "2023-10-18T10:27:32.324974Z",
     "iopub.status.busy": "2023-10-18T10:27:32.324244Z",
     "iopub.status.idle": "2023-10-18T10:27:32.343244Z",
     "shell.execute_reply": "2023-10-18T10:27:32.342069Z"
    },
    "papermill": {
     "duration": 0.02731,
     "end_time": "2023-10-18T10:27:32.345420",
     "exception": false,
     "start_time": "2023-10-18T10:27:32.318110",
     "status": "completed"
    },
    "tags": []
   },
   "outputs": [
    {
     "data": {
      "text/html": [
       "<style>#sk-container-id-1 {color: black;background-color: white;}#sk-container-id-1 pre{padding: 0;}#sk-container-id-1 div.sk-toggleable {background-color: white;}#sk-container-id-1 label.sk-toggleable__label {cursor: pointer;display: block;width: 100%;margin-bottom: 0;padding: 0.3em;box-sizing: border-box;text-align: center;}#sk-container-id-1 label.sk-toggleable__label-arrow:before {content: \"▸\";float: left;margin-right: 0.25em;color: #696969;}#sk-container-id-1 label.sk-toggleable__label-arrow:hover:before {color: black;}#sk-container-id-1 div.sk-estimator:hover label.sk-toggleable__label-arrow:before {color: black;}#sk-container-id-1 div.sk-toggleable__content {max-height: 0;max-width: 0;overflow: hidden;text-align: left;background-color: #f0f8ff;}#sk-container-id-1 div.sk-toggleable__content pre {margin: 0.2em;color: black;border-radius: 0.25em;background-color: #f0f8ff;}#sk-container-id-1 input.sk-toggleable__control:checked~div.sk-toggleable__content {max-height: 200px;max-width: 100%;overflow: auto;}#sk-container-id-1 input.sk-toggleable__control:checked~label.sk-toggleable__label-arrow:before {content: \"▾\";}#sk-container-id-1 div.sk-estimator input.sk-toggleable__control:checked~label.sk-toggleable__label {background-color: #d4ebff;}#sk-container-id-1 div.sk-label input.sk-toggleable__control:checked~label.sk-toggleable__label {background-color: #d4ebff;}#sk-container-id-1 input.sk-hidden--visually {border: 0;clip: rect(1px 1px 1px 1px);clip: rect(1px, 1px, 1px, 1px);height: 1px;margin: -1px;overflow: hidden;padding: 0;position: absolute;width: 1px;}#sk-container-id-1 div.sk-estimator {font-family: monospace;background-color: #f0f8ff;border: 1px dotted black;border-radius: 0.25em;box-sizing: border-box;margin-bottom: 0.5em;}#sk-container-id-1 div.sk-estimator:hover {background-color: #d4ebff;}#sk-container-id-1 div.sk-parallel-item::after {content: \"\";width: 100%;border-bottom: 1px solid gray;flex-grow: 1;}#sk-container-id-1 div.sk-label:hover label.sk-toggleable__label {background-color: #d4ebff;}#sk-container-id-1 div.sk-serial::before {content: \"\";position: absolute;border-left: 1px solid gray;box-sizing: border-box;top: 0;bottom: 0;left: 50%;z-index: 0;}#sk-container-id-1 div.sk-serial {display: flex;flex-direction: column;align-items: center;background-color: white;padding-right: 0.2em;padding-left: 0.2em;position: relative;}#sk-container-id-1 div.sk-item {position: relative;z-index: 1;}#sk-container-id-1 div.sk-parallel {display: flex;align-items: stretch;justify-content: center;background-color: white;position: relative;}#sk-container-id-1 div.sk-item::before, #sk-container-id-1 div.sk-parallel-item::before {content: \"\";position: absolute;border-left: 1px solid gray;box-sizing: border-box;top: 0;bottom: 0;left: 50%;z-index: -1;}#sk-container-id-1 div.sk-parallel-item {display: flex;flex-direction: column;z-index: 1;position: relative;background-color: white;}#sk-container-id-1 div.sk-parallel-item:first-child::after {align-self: flex-end;width: 50%;}#sk-container-id-1 div.sk-parallel-item:last-child::after {align-self: flex-start;width: 50%;}#sk-container-id-1 div.sk-parallel-item:only-child::after {width: 0;}#sk-container-id-1 div.sk-dashed-wrapped {border: 1px dashed gray;margin: 0 0.4em 0.5em 0.4em;box-sizing: border-box;padding-bottom: 0.4em;background-color: white;}#sk-container-id-1 div.sk-label label {font-family: monospace;font-weight: bold;display: inline-block;line-height: 1.2em;}#sk-container-id-1 div.sk-label-container {text-align: center;}#sk-container-id-1 div.sk-container {/* jupyter's `normalize.less` sets `[hidden] { display: none; }` but bootstrap.min.css set `[hidden] { display: none !important; }` so we also need the `!important` here to be able to override the default hidden behavior on the sphinx rendered scikit-learn.org. See: https://github.com/scikit-learn/scikit-learn/issues/21755 */display: inline-block !important;position: relative;}#sk-container-id-1 div.sk-text-repr-fallback {display: none;}</style><div id=\"sk-container-id-1\" class=\"sk-top-container\"><div class=\"sk-text-repr-fallback\"><pre>RidgeClassifier(alpha=13.219411484660315)</pre><b>In a Jupyter environment, please rerun this cell to show the HTML representation or trust the notebook. <br />On GitHub, the HTML representation is unable to render, please try loading this page with nbviewer.org.</b></div><div class=\"sk-container\" hidden><div class=\"sk-item\"><div class=\"sk-estimator sk-toggleable\"><input class=\"sk-toggleable__control sk-hidden--visually\" id=\"sk-estimator-id-1\" type=\"checkbox\" checked><label for=\"sk-estimator-id-1\" class=\"sk-toggleable__label sk-toggleable__label-arrow\">RidgeClassifier</label><div class=\"sk-toggleable__content\"><pre>RidgeClassifier(alpha=13.219411484660315)</pre></div></div></div></div></div>"
      ],
      "text/plain": [
       "RidgeClassifier(alpha=13.219411484660315)"
      ]
     },
     "execution_count": 10,
     "metadata": {},
     "output_type": "execute_result"
    }
   ],
   "source": [
    "ridge=RidgeClassifier(perAlphaBestScore)\n",
    "ridge.fit(ybaX_,ybaY_)"
   ]
  }
 ],
 "metadata": {
  "kernelspec": {
   "display_name": "Python 3",
   "language": "python",
   "name": "python3"
  },
  "language_info": {
   "codemirror_mode": {
    "name": "ipython",
    "version": 3
   },
   "file_extension": ".py",
   "mimetype": "text/x-python",
   "name": "python",
   "nbconvert_exporter": "python",
   "pygments_lexer": "ipython3",
   "version": "3.10.12"
  },
  "papermill": {
   "default_parameters": {},
   "duration": 69.988677,
   "end_time": "2023-10-18T10:27:34.971458",
   "environment_variables": {},
   "exception": null,
   "input_path": "__notebook__.ipynb",
   "output_path": "__notebook__.ipynb",
   "parameters": {},
   "start_time": "2023-10-18T10:26:24.982781",
   "version": "2.4.0"
  }
 },
 "nbformat": 4,
 "nbformat_minor": 5
}
