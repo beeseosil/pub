{
 "cells": [
  {
   "cell_type": "markdown",
   "id": "178258c0",
   "metadata": {
    "papermill": {
     "duration": 0.004013,
     "end_time": "2023-10-17T13:23:02.859411",
     "exception": false,
     "start_time": "2023-10-17T13:23:02.855398",
     "status": "completed"
    },
    "tags": []
   },
   "source": [
    "### Import Libraries"
   ]
  },
  {
   "cell_type": "code",
   "execution_count": 1,
   "id": "098420b0",
   "metadata": {
    "execution": {
     "iopub.execute_input": "2023-10-17T13:23:02.870700Z",
     "iopub.status.busy": "2023-10-17T13:23:02.870272Z",
     "iopub.status.idle": "2023-10-17T13:23:05.852888Z",
     "shell.execute_reply": "2023-10-17T13:23:05.851490Z"
    },
    "papermill": {
     "duration": 2.990269,
     "end_time": "2023-10-17T13:23:05.855380",
     "exception": false,
     "start_time": "2023-10-17T13:23:02.865111",
     "status": "completed"
    },
    "tags": []
   },
   "outputs": [],
   "source": [
    "import numpy as np\n",
    "import pandas as pd\n",
    "\n",
    "import matplotlib.pyplot as plt\n",
    "import seaborn as sns\n",
    "\n",
    "from sklearn.preprocessing import PowerTransformer\n",
    "from sklearn.model_selection import StratifiedKFold,cross_validate\n",
    "from sklearn.linear_model import LogisticRegression,RidgeClassifier\n",
    "from sklearn.feature_selection import RFECV"
   ]
  },
  {
   "cell_type": "markdown",
   "id": "acae75d6",
   "metadata": {
    "papermill": {
     "duration": 0.003396,
     "end_time": "2023-10-17T13:23:05.863926",
     "exception": false,
     "start_time": "2023-10-17T13:23:05.860530",
     "status": "completed"
    },
    "tags": []
   },
   "source": [
    "### See if it's clean"
   ]
  },
  {
   "cell_type": "code",
   "execution_count": 2,
   "id": "90e1c7a8",
   "metadata": {
    "execution": {
     "iopub.execute_input": "2023-10-17T13:23:05.877185Z",
     "iopub.status.busy": "2023-10-17T13:23:05.875998Z",
     "iopub.status.idle": "2023-10-17T13:23:05.955759Z",
     "shell.execute_reply": "2023-10-17T13:23:05.953881Z"
    },
    "papermill": {
     "duration": 0.088968,
     "end_time": "2023-10-17T13:23:05.958735",
     "exception": false,
     "start_time": "2023-10-17T13:23:05.869767",
     "status": "completed"
    },
    "tags": []
   },
   "outputs": [
    {
     "name": "stdout",
     "output_type": "stream",
     "text": [
      "(569, 32) 18208\n",
      "<class 'pandas.core.frame.DataFrame'>\n",
      "RangeIndex: 569 entries, 0 to 568\n",
      "Data columns (total 32 columns):\n",
      " #   Column                   Non-Null Count  Dtype  \n",
      "---  ------                   --------------  -----  \n",
      " 0   id                       569 non-null    int64  \n",
      " 1   diagnosis                569 non-null    object \n",
      " 2   radius_mean              569 non-null    float64\n",
      " 3   texture_mean             569 non-null    float64\n",
      " 4   perimeter_mean           569 non-null    float64\n",
      " 5   area_mean                569 non-null    float64\n",
      " 6   smoothness_mean          569 non-null    float64\n",
      " 7   compactness_mean         569 non-null    float64\n",
      " 8   concavity_mean           569 non-null    float64\n",
      " 9   concave points_mean      569 non-null    float64\n",
      " 10  symmetry_mean            569 non-null    float64\n",
      " 11  fractal_dimension_mean   569 non-null    float64\n",
      " 12  radius_se                569 non-null    float64\n",
      " 13  texture_se               569 non-null    float64\n",
      " 14  perimeter_se             569 non-null    float64\n",
      " 15  area_se                  569 non-null    float64\n",
      " 16  smoothness_se            569 non-null    float64\n",
      " 17  compactness_se           569 non-null    float64\n",
      " 18  concavity_se             569 non-null    float64\n",
      " 19  concave points_se        569 non-null    float64\n",
      " 20  symmetry_se              569 non-null    float64\n",
      " 21  fractal_dimension_se     569 non-null    float64\n",
      " 22  radius_worst             569 non-null    float64\n",
      " 23  texture_worst            569 non-null    float64\n",
      " 24  perimeter_worst          569 non-null    float64\n",
      " 25  area_worst               569 non-null    float64\n",
      " 26  smoothness_worst         569 non-null    float64\n",
      " 27  compactness_worst        569 non-null    float64\n",
      " 28  concavity_worst          569 non-null    float64\n",
      " 29  concave points_worst     569 non-null    float64\n",
      " 30  symmetry_worst           569 non-null    float64\n",
      " 31  fractal_dimension_worst  569 non-null    float64\n",
      "dtypes: float64(30), int64(1), object(1)\n",
      "memory usage: 142.4+ KB\n"
     ]
    }
   ],
   "source": [
    "유방암=pd.read_csv(\"/kaggle/input/breast-cancer-wisconsin-data/data.csv\")\n",
    "유방암=유방암.dropna(axis=1,how=\"all\")\n",
    "print(유방암.shape,유방암.shape[0]*유방암.shape[1])\n",
    "유방암.info()"
   ]
  },
  {
   "cell_type": "markdown",
   "id": "ab1fa84f",
   "metadata": {
    "papermill": {
     "duration": 0.00414,
     "end_time": "2023-10-17T13:23:05.970779",
     "exception": false,
     "start_time": "2023-10-17T13:23:05.966639",
     "status": "completed"
    },
    "tags": []
   },
   "source": [
    "### Preprocessing i: Slice Data"
   ]
  },
  {
   "cell_type": "code",
   "execution_count": 3,
   "id": "59014624",
   "metadata": {
    "execution": {
     "iopub.execute_input": "2023-10-17T13:23:05.981547Z",
     "iopub.status.busy": "2023-10-17T13:23:05.980808Z",
     "iopub.status.idle": "2023-10-17T13:23:05.988509Z",
     "shell.execute_reply": "2023-10-17T13:23:05.986887Z"
    },
    "papermill": {
     "duration": 0.016501,
     "end_time": "2023-10-17T13:23:05.991381",
     "exception": false,
     "start_time": "2023-10-17T13:23:05.974880",
     "status": "completed"
    },
    "tags": []
   },
   "outputs": [],
   "source": [
    "yba=유방암.copy()\n",
    "ybaIndex=yba.iloc[:,0]\n",
    "ybaY=yba.iloc[:,1]\n",
    "ybaX=yba.iloc[:,2:]"
   ]
  },
  {
   "cell_type": "markdown",
   "id": "96aad031",
   "metadata": {
    "papermill": {
     "duration": 0.004518,
     "end_time": "2023-10-17T13:23:06.001874",
     "exception": false,
     "start_time": "2023-10-17T13:23:05.997356",
     "status": "completed"
    },
    "tags": []
   },
   "source": [
    "### Preprocessing ii: Standardization & Normalization"
   ]
  },
  {
   "cell_type": "code",
   "execution_count": 4,
   "id": "57853236",
   "metadata": {
    "execution": {
     "iopub.execute_input": "2023-10-17T13:23:06.016711Z",
     "iopub.status.busy": "2023-10-17T13:23:06.015171Z",
     "iopub.status.idle": "2023-10-17T13:23:06.141306Z",
     "shell.execute_reply": "2023-10-17T13:23:06.140221Z"
    },
    "papermill": {
     "duration": 0.136917,
     "end_time": "2023-10-17T13:23:06.143626",
     "exception": false,
     "start_time": "2023-10-17T13:23:06.006709",
     "status": "completed"
    },
    "tags": []
   },
   "outputs": [
    {
     "data": {
      "text/html": [
       "<div>\n",
       "<style scoped>\n",
       "    .dataframe tbody tr th:only-of-type {\n",
       "        vertical-align: middle;\n",
       "    }\n",
       "\n",
       "    .dataframe tbody tr th {\n",
       "        vertical-align: top;\n",
       "    }\n",
       "\n",
       "    .dataframe thead th {\n",
       "        text-align: right;\n",
       "    }\n",
       "</style>\n",
       "<table border=\"1\" class=\"dataframe\">\n",
       "  <thead>\n",
       "    <tr style=\"text-align: right;\">\n",
       "      <th></th>\n",
       "      <th>radius_mean</th>\n",
       "      <th>texture_mean</th>\n",
       "      <th>perimeter_mean</th>\n",
       "      <th>area_mean</th>\n",
       "      <th>smoothness_mean</th>\n",
       "      <th>compactness_mean</th>\n",
       "      <th>concavity_mean</th>\n",
       "      <th>concave points_mean</th>\n",
       "      <th>symmetry_mean</th>\n",
       "      <th>fractal_dimension_mean</th>\n",
       "    </tr>\n",
       "  </thead>\n",
       "  <tbody>\n",
       "    <tr>\n",
       "      <th>mean</th>\n",
       "      <td>0.0000</td>\n",
       "      <td>0.00000</td>\n",
       "      <td>-0.00000</td>\n",
       "      <td>0.0000</td>\n",
       "      <td>-0.0000</td>\n",
       "      <td>0.00000</td>\n",
       "      <td>-0.00000</td>\n",
       "      <td>0.00000</td>\n",
       "      <td>-0.00000</td>\n",
       "      <td>-0.00000</td>\n",
       "    </tr>\n",
       "    <tr>\n",
       "      <th>median</th>\n",
       "      <td>-0.0564</td>\n",
       "      <td>0.00083</td>\n",
       "      <td>-0.07175</td>\n",
       "      <td>-0.0566</td>\n",
       "      <td>0.0294</td>\n",
       "      <td>-0.03392</td>\n",
       "      <td>-0.13618</td>\n",
       "      <td>-0.23281</td>\n",
       "      <td>0.02629</td>\n",
       "      <td>-0.02013</td>\n",
       "    </tr>\n",
       "  </tbody>\n",
       "</table>\n",
       "</div>"
      ],
      "text/plain": [
       "        radius_mean  texture_mean  perimeter_mean  area_mean  smoothness_mean  \\\n",
       "mean         0.0000       0.00000        -0.00000     0.0000          -0.0000   \n",
       "median      -0.0564       0.00083        -0.07175    -0.0566           0.0294   \n",
       "\n",
       "        compactness_mean  concavity_mean  concave points_mean  symmetry_mean  \\\n",
       "mean             0.00000        -0.00000              0.00000       -0.00000   \n",
       "median          -0.03392        -0.13618             -0.23281        0.02629   \n",
       "\n",
       "        fractal_dimension_mean  \n",
       "mean                  -0.00000  \n",
       "median                -0.02013  "
      ]
     },
     "execution_count": 4,
     "metadata": {},
     "output_type": "execute_result"
    }
   ],
   "source": [
    "yeoJohnson=PowerTransformer()\n",
    "ybaX=pd.DataFrame(yeoJohnson.fit_transform(ybaX),columns=ybaX.columns)\n",
    "ybaX.agg([\"mean\",\"median\"]).filter(regex=\"mean$\").round(5)"
   ]
  },
  {
   "cell_type": "markdown",
   "id": "39be0e0b",
   "metadata": {
    "papermill": {
     "duration": 0.003665,
     "end_time": "2023-10-17T13:23:06.151416",
     "exception": false,
     "start_time": "2023-10-17T13:23:06.147751",
     "status": "completed"
    },
    "tags": []
   },
   "source": [
    "### Preprocessing iii: RFECV: Feature Reduction"
   ]
  },
  {
   "cell_type": "code",
   "execution_count": 5,
   "id": "f3166ebc",
   "metadata": {
    "execution": {
     "iopub.execute_input": "2023-10-17T13:23:06.161179Z",
     "iopub.status.busy": "2023-10-17T13:23:06.160198Z",
     "iopub.status.idle": "2023-10-17T13:23:08.852467Z",
     "shell.execute_reply": "2023-10-17T13:23:08.850827Z"
    },
    "papermill": {
     "duration": 2.701271,
     "end_time": "2023-10-17T13:23:08.856379",
     "exception": false,
     "start_time": "2023-10-17T13:23:06.155108",
     "status": "completed"
    },
    "tags": []
   },
   "outputs": [],
   "source": [
    "minFeatureCount=3\n",
    "estimator=LogisticRegression()\n",
    "kfold=StratifiedKFold(\n",
    "    n_splits=16,\n",
    "    shuffle=True,\n",
    "    random_state=23301522\n",
    ")\n",
    "rfecv=RFECV(\n",
    "    estimator=estimator,\n",
    "    scoring=\"accuracy\",\n",
    "    min_features_to_select=minFeatureCount,\n",
    "    n_jobs=-1\n",
    ")\n",
    "rfecv.fit(ybaX,ybaY)\n",
    "rfeScoreCount=len(rfecv.cv_results_[\"mean_test_score\"])"
   ]
  },
  {
   "cell_type": "code",
   "execution_count": 6,
   "id": "a8f3dffd",
   "metadata": {
    "execution": {
     "iopub.execute_input": "2023-10-17T13:23:08.875779Z",
     "iopub.status.busy": "2023-10-17T13:23:08.874274Z",
     "iopub.status.idle": "2023-10-17T13:23:09.176091Z",
     "shell.execute_reply": "2023-10-17T13:23:09.174865Z"
    },
    "papermill": {
     "duration": 0.31358,
     "end_time": "2023-10-17T13:23:09.178501",
     "exception": false,
     "start_time": "2023-10-17T13:23:08.864921",
     "status": "completed"
    },
    "tags": []
   },
   "outputs": [
    {
     "data": {
      "text/plain": [
       "<ErrorbarContainer object of 3 artists>"
      ]
     },
     "execution_count": 6,
     "metadata": {},
     "output_type": "execute_result"
    },
    {
     "data": {
      "image/png": "[encoded data removed]",
      "text/plain": [
       "<Figure size 500x200 with 1 Axes>"
      ]
     },
     "metadata": {},
     "output_type": "display_data"
    }
   ],
   "source": [
    "plt.figure(figsize=(5,2))\n",
    "plt.title(\"Logit: Selected Features Number vs. Accuracy\")\n",
    "plt.errorbar(\n",
    "    range(minFeatureCount, minFeatureCount + rfeScoreCount),\n",
    "    rfecv.cv_results_[\"mean_test_score\"],\n",
    "    yerr=rfecv.cv_results_[\"std_test_score\"]\n",
    ")"
   ]
  },
  {
   "cell_type": "code",
   "execution_count": 7,
   "id": "454f28de",
   "metadata": {
    "execution": {
     "iopub.execute_input": "2023-10-17T13:23:09.189820Z",
     "iopub.status.busy": "2023-10-17T13:23:09.189353Z",
     "iopub.status.idle": "2023-10-17T13:23:09.199721Z",
     "shell.execute_reply": "2023-10-17T13:23:09.198279Z"
    },
    "papermill": {
     "duration": 0.018695,
     "end_time": "2023-10-17T13:23:09.201910",
     "exception": false,
     "start_time": "2023-10-17T13:23:09.183215",
     "status": "completed"
    },
    "tags": []
   },
   "outputs": [
    {
     "name": "stdout",
     "output_type": "stream",
     "text": [
      "Optimal Features Count: 10\n"
     ]
    }
   ],
   "source": [
    "ybaHelpfulFeature=rfecv.feature_names_in_[rfecv.support_]\n",
    "print(f\"Optimal Features Count: {len(ybaHelpfulFeature)}\")\n",
    "ybaY_=ybaY.copy()# .replace({\"B\":0,\"M\":1})\n",
    "ybaX_=ybaX.copy()[ybaHelpfulFeature]"
   ]
  },
  {
   "cell_type": "markdown",
   "id": "133f79cb",
   "metadata": {
    "papermill": {
     "duration": 0.004362,
     "end_time": "2023-10-17T13:23:09.211052",
     "exception": false,
     "start_time": "2023-10-17T13:23:09.206690",
     "status": "completed"
    },
    "tags": []
   },
   "source": [
    "### Modeling i: Get an Alpha"
   ]
  },
  {
   "cell_type": "code",
   "execution_count": 8,
   "id": "9ad2abb1",
   "metadata": {
    "execution": {
     "iopub.execute_input": "2023-10-17T13:23:09.223147Z",
     "iopub.status.busy": "2023-10-17T13:23:09.221956Z",
     "iopub.status.idle": "2023-10-17T13:23:17.595901Z",
     "shell.execute_reply": "2023-10-17T13:23:17.594839Z"
    },
    "papermill": {
     "duration": 8.383061,
     "end_time": "2023-10-17T13:23:17.598626",
     "exception": false,
     "start_time": "2023-10-17T13:23:09.215565",
     "status": "completed"
    },
    "tags": []
   },
   "outputs": [],
   "source": [
    "alphas=np.logspace(-3,5,100)\n",
    "perAlphaResult=[]\n",
    "for alpha in alphas:\n",
    "    _cv=cross_validate(\n",
    "        RidgeClassifier(alpha),\n",
    "        ybaX_,\n",
    "        ybaY_,\n",
    "        scoring=\"accuracy\",\n",
    "        cv=kfold,\n",
    "        return_estimator=True,\n",
    "        n_jobs=-1\n",
    "    )\n",
    "    _cvCoef=[estimator.coef_ for estimator in _cv[\"estimator\"]]\n",
    "    _cvCoefMean=np.mean(_cvCoef,axis=0)\n",
    "    _cvScoreMean=np.mean(_cv[\"test_score\"])\n",
    "    perAlphaResult.append((\n",
    "        np.array([alpha]),\n",
    "        np.array([_cvScoreMean]),\n",
    "        _cvCoefMean[0]\n",
    "    ))\n",
    "    del _cv[\"estimator\"]"
   ]
  },
  {
   "cell_type": "code",
   "execution_count": 9,
   "id": "b8462a76",
   "metadata": {
    "execution": {
     "iopub.execute_input": "2023-10-17T13:23:17.610509Z",
     "iopub.status.busy": "2023-10-17T13:23:17.610041Z",
     "iopub.status.idle": "2023-10-17T13:23:18.035014Z",
     "shell.execute_reply": "2023-10-17T13:23:18.033821Z"
    },
    "papermill": {
     "duration": 0.433692,
     "end_time": "2023-10-17T13:23:18.037294",
     "exception": false,
     "start_time": "2023-10-17T13:23:17.603602",
     "status": "completed"
    },
    "tags": []
   },
   "outputs": [
    {
     "data": {
      "text/plain": [
       "Text(0.5, 1.0, 'Per-alpha Accuracy')"
      ]
     },
     "execution_count": 9,
     "metadata": {},
     "output_type": "execute_result"
    },
    {
     "data": {
      "image/png": "[encoded data removed]",
      "text/plain": [
       "<Figure size 500x200 with 1 Axes>"
      ]
     },
     "metadata": {},
     "output_type": "display_data"
    }
   ],
   "source": [
    "perAlphaDataFrameColumn=[\"alpha\",\"score\"]\n",
    "perAlphaDataFrameColumn.extend(ybaX_.columns)\n",
    "perAlphaResultDataFrame=pd.DataFrame(\n",
    "    [np.concatenate(q) for q in perAlphaResult],\n",
    "    columns=perAlphaDataFrameColumn\n",
    ")\n",
    "perAlphaBestScore=perAlphaResultDataFrame.alpha[perAlphaResultDataFrame.score.idxmax()]\n",
    "plt.figure(figsize=(5,2))\n",
    "_p=sns.lineplot(\n",
    "    x=perAlphaResultDataFrame.alpha,\n",
    "    y=perAlphaResultDataFrame.score\n",
    ")\n",
    "_p.set_xscale(\"log\")\n",
    "_p.axvline(\n",
    "    x=perAlphaBestScore,\n",
    "    color=\".5\"\n",
    ")\n",
    "_p.text(\n",
    "    x=perAlphaBestScore,\n",
    "    y=perAlphaResultDataFrame.score.min(),\n",
    "    s=f\"{perAlphaBestScore}\"\n",
    ")\n",
    "_p.set_title(\"Per-alpha Accuracy\")"
   ]
  },
  {
   "cell_type": "markdown",
   "id": "a2c665bb",
   "metadata": {
    "papermill": {
     "duration": 0.004794,
     "end_time": "2023-10-17T13:23:18.047378",
     "exception": false,
     "start_time": "2023-10-17T13:23:18.042584",
     "status": "completed"
    },
    "tags": []
   },
   "source": [
    "### Modeling ii: Model"
   ]
  },
  {
   "cell_type": "code",
   "execution_count": 10,
   "id": "19e8514c",
   "metadata": {
    "execution": {
     "iopub.execute_input": "2023-10-17T13:23:18.059542Z",
     "iopub.status.busy": "2023-10-17T13:23:18.059095Z",
     "iopub.status.idle": "2023-10-17T13:23:18.079721Z",
     "shell.execute_reply": "2023-10-17T13:23:18.078781Z"
    },
    "papermill": {
     "duration": 0.029447,
     "end_time": "2023-10-17T13:23:18.081826",
     "exception": false,
     "start_time": "2023-10-17T13:23:18.052379",
     "status": "completed"
    },
    "tags": []
   },
   "outputs": [
    {
     "data": {
      "text/html": [
       "<style>#sk-container-id-1 {color: black;background-color: white;}#sk-container-id-1 pre{padding: 0;}#sk-container-id-1 div.sk-toggleable {background-color: white;}#sk-container-id-1 label.sk-toggleable__label {cursor: pointer;display: block;width: 100%;margin-bottom: 0;padding: 0.3em;box-sizing: border-box;text-align: center;}#sk-container-id-1 label.sk-toggleable__label-arrow:before {content: \"▸\";float: left;margin-right: 0.25em;color: #696969;}#sk-container-id-1 label.sk-toggleable__label-arrow:hover:before {color: black;}#sk-container-id-1 div.sk-estimator:hover label.sk-toggleable__label-arrow:before {color: black;}#sk-container-id-1 div.sk-toggleable__content {max-height: 0;max-width: 0;overflow: hidden;text-align: left;background-color: #f0f8ff;}#sk-container-id-1 div.sk-toggleable__content pre {margin: 0.2em;color: black;border-radius: 0.25em;background-color: #f0f8ff;}#sk-container-id-1 input.sk-toggleable__control:checked~div.sk-toggleable__content {max-height: 200px;max-width: 100%;overflow: auto;}#sk-container-id-1 input.sk-toggleable__control:checked~label.sk-toggleable__label-arrow:before {content: \"▾\";}#sk-container-id-1 div.sk-estimator input.sk-toggleable__control:checked~label.sk-toggleable__label {background-color: #d4ebff;}#sk-container-id-1 div.sk-label input.sk-toggleable__control:checked~label.sk-toggleable__label {background-color: #d4ebff;}#sk-container-id-1 input.sk-hidden--visually {border: 0;clip: rect(1px 1px 1px 1px);clip: rect(1px, 1px, 1px, 1px);height: 1px;margin: -1px;overflow: hidden;padding: 0;position: absolute;width: 1px;}#sk-container-id-1 div.sk-estimator {font-family: monospace;background-color: #f0f8ff;border: 1px dotted black;border-radius: 0.25em;box-sizing: border-box;margin-bottom: 0.5em;}#sk-container-id-1 div.sk-estimator:hover {background-color: #d4ebff;}#sk-container-id-1 div.sk-parallel-item::after {content: \"\";width: 100%;border-bottom: 1px solid gray;flex-grow: 1;}#sk-container-id-1 div.sk-label:hover label.sk-toggleable__label {background-color: #d4ebff;}#sk-container-id-1 div.sk-serial::before {content: \"\";position: absolute;border-left: 1px solid gray;box-sizing: border-box;top: 0;bottom: 0;left: 50%;z-index: 0;}#sk-container-id-1 div.sk-serial {display: flex;flex-direction: column;align-items: center;background-color: white;padding-right: 0.2em;padding-left: 0.2em;position: relative;}#sk-container-id-1 div.sk-item {position: relative;z-index: 1;}#sk-container-id-1 div.sk-parallel {display: flex;align-items: stretch;justify-content: center;background-color: white;position: relative;}#sk-container-id-1 div.sk-item::before, #sk-container-id-1 div.sk-parallel-item::before {content: \"\";position: absolute;border-left: 1px solid gray;box-sizing: border-box;top: 0;bottom: 0;left: 50%;z-index: -1;}#sk-container-id-1 div.sk-parallel-item {display: flex;flex-direction: column;z-index: 1;position: relative;background-color: white;}#sk-container-id-1 div.sk-parallel-item:first-child::after {align-self: flex-end;width: 50%;}#sk-container-id-1 div.sk-parallel-item:last-child::after {align-self: flex-start;width: 50%;}#sk-container-id-1 div.sk-parallel-item:only-child::after {width: 0;}#sk-container-id-1 div.sk-dashed-wrapped {border: 1px dashed gray;margin: 0 0.4em 0.5em 0.4em;box-sizing: border-box;padding-bottom: 0.4em;background-color: white;}#sk-container-id-1 div.sk-label label {font-family: monospace;font-weight: bold;display: inline-block;line-height: 1.2em;}#sk-container-id-1 div.sk-label-container {text-align: center;}#sk-container-id-1 div.sk-container {/* jupyter's `normalize.less` sets `[hidden] { display: none; }` but bootstrap.min.css set `[hidden] { display: none !important; }` so we also need the `!important` here to be able to override the default hidden behavior on the sphinx rendered scikit-learn.org. See: https://github.com/scikit-learn/scikit-learn/issues/21755 */display: inline-block !important;position: relative;}#sk-container-id-1 div.sk-text-repr-fallback {display: none;}</style><div id=\"sk-container-id-1\" class=\"sk-top-container\"><div class=\"sk-text-repr-fallback\"><pre>RidgeClassifier(alpha=10.974987654930567)</pre><b>In a Jupyter environment, please rerun this cell to show the HTML representation or trust the notebook. <br />On GitHub, the HTML representation is unable to render, please try loading this page with nbviewer.org.</b></div><div class=\"sk-container\" hidden><div class=\"sk-item\"><div class=\"sk-estimator sk-toggleable\"><input class=\"sk-toggleable__control sk-hidden--visually\" id=\"sk-estimator-id-1\" type=\"checkbox\" checked><label for=\"sk-estimator-id-1\" class=\"sk-toggleable__label sk-toggleable__label-arrow\">RidgeClassifier</label><div class=\"sk-toggleable__content\"><pre>RidgeClassifier(alpha=10.974987654930567)</pre></div></div></div></div></div>"
      ],
      "text/plain": [
       "RidgeClassifier(alpha=10.974987654930567)"
      ]
     },
     "execution_count": 10,
     "metadata": {},
     "output_type": "execute_result"
    }
   ],
   "source": [
    "ridge=RidgeClassifier(perAlphaBestScore)\n",
    "ridge.fit(ybaX_,ybaY_)"
   ]
  }
 ],
 "metadata": {
  "kernelspec": {
   "display_name": "Python 3",
   "language": "python",
   "name": "python3"
  },
  "language_info": {
   "codemirror_mode": {
    "name": "ipython",
    "version": 3
   },
   "file_extension": ".py",
   "mimetype": "text/x-python",
   "name": "python",
   "nbconvert_exporter": "python",
   "pygments_lexer": "ipython3",
   "version": "3.10.12"
  },
  "papermill": {
   "default_parameters": {},
   "duration": 22.084764,
   "end_time": "2023-10-17T13:23:20.708628",
   "environment_variables": {},
   "exception": null,
   "input_path": "__notebook__.ipynb",
   "output_path": "__notebook__.ipynb",
   "parameters": {},
   "start_time": "2023-10-17T13:22:58.623864",
   "version": "2.4.0"
  }
 },
 "nbformat": 4,
 "nbformat_minor": 5
}
